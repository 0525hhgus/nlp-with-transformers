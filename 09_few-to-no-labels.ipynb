{
  "cells": [
    {
      "cell_type": "markdown",
      "metadata": {
        "id": "J4RSNNfuFtc_"
      },
      "source": [
        "<table align=\"left\"><tr><td>\n",
        "<a href=\"https://colab.research.google.com/github/rickiepark/nlp-with-transformers/blob/main/09_few-to-no-labels.ipynb\" target=\"_parent\"><img src=\"https://colab.research.google.com/assets/colab-badge.svg\" alt=\"코랩에서 실행하기\"/></a>\n",
        "</td></tr></table>"
      ]
    },
    {
      "cell_type": "code",
      "execution_count": 1,
      "metadata": {
        "colab": {
          "base_uri": "https://localhost:8080/"
        },
        "id": "EVnLJr4QFtdC",
        "outputId": "b584ec5b-b1fd-4791-8c5b-d9b09707b281"
      },
      "outputs": [
        {
          "output_type": "stream",
          "name": "stdout",
          "text": [
            "fatal: destination path 'nlp-with-transformers' already exists and is not an empty directory.\n",
            "/content/nlp-with-transformers\n",
            "⏳ Installing base requirements ...\n",
            "✅ Base requirements installed!\n",
            "⏳ Installing Git LFS ...\n",
            "✅ Git LFS installed!\n"
          ]
        }
      ],
      "source": [
        "# 코랩이나 캐글을 사용한다면 이 셀의 주석을 제거하고 실행하세요.\n",
        "!git clone https://github.com/rickiepark/nlp-with-transformers.git\n",
        "%cd nlp-with-transformers\n",
        "from install import *\n",
        "install_requirements(is_chapter9=True)"
      ]
    },
    {
      "cell_type": "code",
      "execution_count": 2,
      "metadata": {
        "colab": {
          "base_uri": "https://localhost:8080/"
        },
        "id": "FPq0aZ4UFtdD",
        "outputId": "705251a0-908c-4a74-813c-ae82545ac40e"
      },
      "outputs": [
        {
          "output_type": "stream",
          "name": "stdout",
          "text": [
            "Using transformers v4.13.0\n",
            "Using datasets v1.16.1\n"
          ]
        }
      ],
      "source": [
        "from utils import *\n",
        "setup_chapter()"
      ]
    },
    {
      "cell_type": "markdown",
      "metadata": {
        "id": "7z2Iv8KGFtdD"
      },
      "source": [
        "# 레이블 부족 문제 다루기"
      ]
    },
    {
      "cell_type": "markdown",
      "metadata": {
        "id": "OKd7kNu-FtdE"
      },
      "source": [
        "<img alt=\"decision-tree\" caption=\"Several techniques that can be used to improve model performance in the absence of large amounts of labeled data\" src=\"https://github.com/rickiepark/nlp-with-transformers/blob/main/images/chapter09_decision-tree.png?raw=1\" id=\"decision-tree\"/>"
      ]
    },
    {
      "cell_type": "markdown",
      "metadata": {
        "id": "ys5w0PFeFtdE"
      },
      "source": [
        "## 깃허브 이슈 태거 만들기"
      ]
    },
    {
      "cell_type": "markdown",
      "metadata": {
        "id": "dofYD5BmFtdE"
      },
      "source": [
        "<img alt=\"issue-example\" caption=\"A typical GitHub issue on the Transformers repository\" src=\"https://github.com/rickiepark/nlp-with-transformers/blob/main/images/chapter09_issue-example-v2.png?raw=1\" id=\"issue-example\"/> "
      ]
    },
    {
      "cell_type": "markdown",
      "metadata": {
        "id": "Bh63uauAFtdF"
      },
      "source": [
        "### 데이터 다운로드하기"
      ]
    },
    {
      "cell_type": "markdown",
      "metadata": {
        "id": "ZXEw9BSGFtdF"
      },
      "source": [
        "### 이슈 다운로드 코드\n",
        "\n",
        "직접 이슈를 다운로드하고 싶다면 파이썬에서 HTTP 요청을 처리하는 대표적인 라이브러리인 _Requests_ 를 사용해 Issues 엔드포인트를 호출할 수 있습니다. 다음은 허깅페이스 트랜스포머스 저장소의 이슈를 다운로드하는 함수입니다."
      ]
    },
    {
      "cell_type": "code",
      "execution_count": 3,
      "metadata": {
        "id": "7tGMYn_wFtdG"
      },
      "outputs": [],
      "source": [
        "import time\n",
        "import math\n",
        "import requests\n",
        "from pathlib import Path\n",
        "import pandas as pd\n",
        "from tqdm.auto import tqdm\n",
        "\n",
        "def fetch_issues(owner=\"huggingface\", repo=\"transformers\", num_issues=10_000, \n",
        "                 rate_limit=5_000):    \n",
        "    batch = []\n",
        "    all_issues = []\n",
        "    per_page = 100     # 페이지마다 반환되는 이슈 개수\n",
        "    num_pages = math.ceil(num_issues / per_page)\n",
        "    base_url = \"https://api.github.com/repos\"\n",
        "    \n",
        "    for page in tqdm(range(num_pages)):\n",
        "        # 오픈 이슈와 클로즈 이슈를 모두 가져오기 위해 state=all로 쿼리합니다.\n",
        "        query = f\"issues?page={page}&per_page={per_page}&state=all\"\n",
        "        issues = requests.get(f\"{base_url}/{owner}/{repo}/{query}\")\n",
        "        batch.extend(issues.json())\n",
        "\n",
        "        if len(batch) > rate_limit and len(all_issues) < num_issues:\n",
        "            all_issues.extend(batch)\n",
        "            batch = []   # 다음 번 요청을 위해 비웁니다.\n",
        "            print(f\"깃허브 요청 한도에 도달했습니다. 한 시간 동안 중지합니다...\")\n",
        "            time.sleep(60 * 60 + 1)\n",
        "            \n",
        "    all_issues.extend(batch)\n",
        "    df = pd.DataFrame.from_records(all_issues)\n",
        "    df.to_json(f\"github-issues-{repo}.jsonl\", orient=\"records\", lines=True)"
      ]
    },
    {
      "cell_type": "markdown",
      "metadata": {
        "id": "iiHurVPMFtdG"
      },
      "source": [
        "`fetch_issues()`를 호출할 때 깃허브의 시간 당 요청 횟수 제한을 넘기지 않도록 이슈를 여러 개의 배치로 다운로드합니다. 이 결과는 _github-issues-transformers.jsonl_ 파일에 저장됩니다. 이 파일의 한 라인은 하나의 이슈를 나타내는 JSON 객체입니다."
      ]
    },
    {
      "cell_type": "markdown",
      "metadata": {
        "id": "cdjsPHagFtdH"
      },
      "source": [
        "### 데이터 준비하기"
      ]
    },
    {
      "cell_type": "code",
      "execution_count": 4,
      "metadata": {
        "colab": {
          "base_uri": "https://localhost:8080/"
        },
        "id": "bvuVpDRIFtdH",
        "outputId": "1ba5f144-214b-4fde-d5af-e71079d7fcb2"
      },
      "outputs": [
        {
          "output_type": "stream",
          "name": "stdout",
          "text": [
            "데이터프레임 크기: (9930, 26)\n"
          ]
        }
      ],
      "source": [
        "import pandas as pd\n",
        "\n",
        "dataset_url = \"https://git.io/nlp-with-transformers\"\n",
        "df_issues = pd.read_json(dataset_url, lines=True)\n",
        "print(f\"데이터프레임 크기: {df_issues.shape}\")"
      ]
    },
    {
      "cell_type": "code",
      "execution_count": 5,
      "metadata": {
        "colab": {
          "base_uri": "https://localhost:8080/",
          "height": 300
        },
        "id": "l4-3dZEcFtdH",
        "outputId": "13e5c64a-889c-4ac3-cf49-53f7dc79cf1a"
      },
      "outputs": [
        {
          "output_type": "execute_result",
          "data": {
            "text/plain": [
              "                                                            2\n",
              "url         https://api.github.com/repos/huggingface/trans...\n",
              "id                                                  849529761\n",
              "title       [DeepSpeed] ZeRO stage 3 integration: getting ...\n",
              "user        {'login': 'stas00', 'id': 10676103, 'node_id':...\n",
              "labels      [{'id': 2659267025, 'node_id': 'MDU6TGFiZWwyNj...\n",
              "state                                                    open\n",
              "created_at                                2021-04-02 23:40:42\n",
              "body        **[This is not yet alive, preparing for the re..."
            ],
            "text/html": [
              "\n",
              "  <div id=\"df-d736a7e7-85f8-47c1-9078-b01023db93ec\">\n",
              "    <div class=\"colab-df-container\">\n",
              "      <div>\n",
              "<style scoped>\n",
              "    .dataframe tbody tr th:only-of-type {\n",
              "        vertical-align: middle;\n",
              "    }\n",
              "\n",
              "    .dataframe tbody tr th {\n",
              "        vertical-align: top;\n",
              "    }\n",
              "\n",
              "    .dataframe thead th {\n",
              "        text-align: right;\n",
              "    }\n",
              "</style>\n",
              "<table border=\"1\" class=\"dataframe\">\n",
              "  <thead>\n",
              "    <tr style=\"text-align: right;\">\n",
              "      <th></th>\n",
              "      <th>2</th>\n",
              "    </tr>\n",
              "  </thead>\n",
              "  <tbody>\n",
              "    <tr>\n",
              "      <th>url</th>\n",
              "      <td>https://api.github.com/repos/huggingface/trans...</td>\n",
              "    </tr>\n",
              "    <tr>\n",
              "      <th>id</th>\n",
              "      <td>849529761</td>\n",
              "    </tr>\n",
              "    <tr>\n",
              "      <th>title</th>\n",
              "      <td>[DeepSpeed] ZeRO stage 3 integration: getting ...</td>\n",
              "    </tr>\n",
              "    <tr>\n",
              "      <th>user</th>\n",
              "      <td>{'login': 'stas00', 'id': 10676103, 'node_id':...</td>\n",
              "    </tr>\n",
              "    <tr>\n",
              "      <th>labels</th>\n",
              "      <td>[{'id': 2659267025, 'node_id': 'MDU6TGFiZWwyNj...</td>\n",
              "    </tr>\n",
              "    <tr>\n",
              "      <th>state</th>\n",
              "      <td>open</td>\n",
              "    </tr>\n",
              "    <tr>\n",
              "      <th>created_at</th>\n",
              "      <td>2021-04-02 23:40:42</td>\n",
              "    </tr>\n",
              "    <tr>\n",
              "      <th>body</th>\n",
              "      <td>**[This is not yet alive, preparing for the re...</td>\n",
              "    </tr>\n",
              "  </tbody>\n",
              "</table>\n",
              "</div>\n",
              "      <button class=\"colab-df-convert\" onclick=\"convertToInteractive('df-d736a7e7-85f8-47c1-9078-b01023db93ec')\"\n",
              "              title=\"Convert this dataframe to an interactive table.\"\n",
              "              style=\"display:none;\">\n",
              "        \n",
              "  <svg xmlns=\"http://www.w3.org/2000/svg\" height=\"24px\"viewBox=\"0 0 24 24\"\n",
              "       width=\"24px\">\n",
              "    <path d=\"M0 0h24v24H0V0z\" fill=\"none\"/>\n",
              "    <path d=\"M18.56 5.44l.94 2.06.94-2.06 2.06-.94-2.06-.94-.94-2.06-.94 2.06-2.06.94zm-11 1L8.5 8.5l.94-2.06 2.06-.94-2.06-.94L8.5 2.5l-.94 2.06-2.06.94zm10 10l.94 2.06.94-2.06 2.06-.94-2.06-.94-.94-2.06-.94 2.06-2.06.94z\"/><path d=\"M17.41 7.96l-1.37-1.37c-.4-.4-.92-.59-1.43-.59-.52 0-1.04.2-1.43.59L10.3 9.45l-7.72 7.72c-.78.78-.78 2.05 0 2.83L4 21.41c.39.39.9.59 1.41.59.51 0 1.02-.2 1.41-.59l7.78-7.78 2.81-2.81c.8-.78.8-2.07 0-2.86zM5.41 20L4 18.59l7.72-7.72 1.47 1.35L5.41 20z\"/>\n",
              "  </svg>\n",
              "      </button>\n",
              "      \n",
              "  <style>\n",
              "    .colab-df-container {\n",
              "      display:flex;\n",
              "      flex-wrap:wrap;\n",
              "      gap: 12px;\n",
              "    }\n",
              "\n",
              "    .colab-df-convert {\n",
              "      background-color: #E8F0FE;\n",
              "      border: none;\n",
              "      border-radius: 50%;\n",
              "      cursor: pointer;\n",
              "      display: none;\n",
              "      fill: #1967D2;\n",
              "      height: 32px;\n",
              "      padding: 0 0 0 0;\n",
              "      width: 32px;\n",
              "    }\n",
              "\n",
              "    .colab-df-convert:hover {\n",
              "      background-color: #E2EBFA;\n",
              "      box-shadow: 0px 1px 2px rgba(60, 64, 67, 0.3), 0px 1px 3px 1px rgba(60, 64, 67, 0.15);\n",
              "      fill: #174EA6;\n",
              "    }\n",
              "\n",
              "    [theme=dark] .colab-df-convert {\n",
              "      background-color: #3B4455;\n",
              "      fill: #D2E3FC;\n",
              "    }\n",
              "\n",
              "    [theme=dark] .colab-df-convert:hover {\n",
              "      background-color: #434B5C;\n",
              "      box-shadow: 0px 1px 3px 1px rgba(0, 0, 0, 0.15);\n",
              "      filter: drop-shadow(0px 1px 2px rgba(0, 0, 0, 0.3));\n",
              "      fill: #FFFFFF;\n",
              "    }\n",
              "  </style>\n",
              "\n",
              "      <script>\n",
              "        const buttonEl =\n",
              "          document.querySelector('#df-d736a7e7-85f8-47c1-9078-b01023db93ec button.colab-df-convert');\n",
              "        buttonEl.style.display =\n",
              "          google.colab.kernel.accessAllowed ? 'block' : 'none';\n",
              "\n",
              "        async function convertToInteractive(key) {\n",
              "          const element = document.querySelector('#df-d736a7e7-85f8-47c1-9078-b01023db93ec');\n",
              "          const dataTable =\n",
              "            await google.colab.kernel.invokeFunction('convertToInteractive',\n",
              "                                                     [key], {});\n",
              "          if (!dataTable) return;\n",
              "\n",
              "          const docLinkHtml = 'Like what you see? Visit the ' +\n",
              "            '<a target=\"_blank\" href=https://colab.research.google.com/notebooks/data_table.ipynb>data table notebook</a>'\n",
              "            + ' to learn more about interactive tables.';\n",
              "          element.innerHTML = '';\n",
              "          dataTable['output_type'] = 'display_data';\n",
              "          await google.colab.output.renderOutput(dataTable, element);\n",
              "          const docLink = document.createElement('div');\n",
              "          docLink.innerHTML = docLinkHtml;\n",
              "          element.appendChild(docLink);\n",
              "        }\n",
              "      </script>\n",
              "    </div>\n",
              "  </div>\n",
              "  "
            ]
          },
          "metadata": {},
          "execution_count": 5
        }
      ],
      "source": [
        "cols = [\"url\", \"id\", \"title\", \"user\", \"labels\", \"state\", \"created_at\", \"body\"]\n",
        "df_issues.loc[2, cols].to_frame()"
      ]
    },
    {
      "cell_type": "code",
      "execution_count": 6,
      "metadata": {
        "colab": {
          "base_uri": "https://localhost:8080/",
          "height": 206
        },
        "id": "wasXuuj1FtdH",
        "outputId": "07e5cff8-478e-4fa2-92d3-213f5f14565f"
      },
      "outputs": [
        {
          "output_type": "execute_result",
          "data": {
            "text/plain": [
              "        labels\n",
              "0           []\n",
              "1           []\n",
              "2  [DeepSpeed]\n",
              "3           []\n",
              "4           []"
            ],
            "text/html": [
              "\n",
              "  <div id=\"df-4be171e3-492c-4268-9231-49b6554ac872\">\n",
              "    <div class=\"colab-df-container\">\n",
              "      <div>\n",
              "<style scoped>\n",
              "    .dataframe tbody tr th:only-of-type {\n",
              "        vertical-align: middle;\n",
              "    }\n",
              "\n",
              "    .dataframe tbody tr th {\n",
              "        vertical-align: top;\n",
              "    }\n",
              "\n",
              "    .dataframe thead th {\n",
              "        text-align: right;\n",
              "    }\n",
              "</style>\n",
              "<table border=\"1\" class=\"dataframe\">\n",
              "  <thead>\n",
              "    <tr style=\"text-align: right;\">\n",
              "      <th></th>\n",
              "      <th>labels</th>\n",
              "    </tr>\n",
              "  </thead>\n",
              "  <tbody>\n",
              "    <tr>\n",
              "      <th>0</th>\n",
              "      <td>[]</td>\n",
              "    </tr>\n",
              "    <tr>\n",
              "      <th>1</th>\n",
              "      <td>[]</td>\n",
              "    </tr>\n",
              "    <tr>\n",
              "      <th>2</th>\n",
              "      <td>[DeepSpeed]</td>\n",
              "    </tr>\n",
              "    <tr>\n",
              "      <th>3</th>\n",
              "      <td>[]</td>\n",
              "    </tr>\n",
              "    <tr>\n",
              "      <th>4</th>\n",
              "      <td>[]</td>\n",
              "    </tr>\n",
              "  </tbody>\n",
              "</table>\n",
              "</div>\n",
              "      <button class=\"colab-df-convert\" onclick=\"convertToInteractive('df-4be171e3-492c-4268-9231-49b6554ac872')\"\n",
              "              title=\"Convert this dataframe to an interactive table.\"\n",
              "              style=\"display:none;\">\n",
              "        \n",
              "  <svg xmlns=\"http://www.w3.org/2000/svg\" height=\"24px\"viewBox=\"0 0 24 24\"\n",
              "       width=\"24px\">\n",
              "    <path d=\"M0 0h24v24H0V0z\" fill=\"none\"/>\n",
              "    <path d=\"M18.56 5.44l.94 2.06.94-2.06 2.06-.94-2.06-.94-.94-2.06-.94 2.06-2.06.94zm-11 1L8.5 8.5l.94-2.06 2.06-.94-2.06-.94L8.5 2.5l-.94 2.06-2.06.94zm10 10l.94 2.06.94-2.06 2.06-.94-2.06-.94-.94-2.06-.94 2.06-2.06.94z\"/><path d=\"M17.41 7.96l-1.37-1.37c-.4-.4-.92-.59-1.43-.59-.52 0-1.04.2-1.43.59L10.3 9.45l-7.72 7.72c-.78.78-.78 2.05 0 2.83L4 21.41c.39.39.9.59 1.41.59.51 0 1.02-.2 1.41-.59l7.78-7.78 2.81-2.81c.8-.78.8-2.07 0-2.86zM5.41 20L4 18.59l7.72-7.72 1.47 1.35L5.41 20z\"/>\n",
              "  </svg>\n",
              "      </button>\n",
              "      \n",
              "  <style>\n",
              "    .colab-df-container {\n",
              "      display:flex;\n",
              "      flex-wrap:wrap;\n",
              "      gap: 12px;\n",
              "    }\n",
              "\n",
              "    .colab-df-convert {\n",
              "      background-color: #E8F0FE;\n",
              "      border: none;\n",
              "      border-radius: 50%;\n",
              "      cursor: pointer;\n",
              "      display: none;\n",
              "      fill: #1967D2;\n",
              "      height: 32px;\n",
              "      padding: 0 0 0 0;\n",
              "      width: 32px;\n",
              "    }\n",
              "\n",
              "    .colab-df-convert:hover {\n",
              "      background-color: #E2EBFA;\n",
              "      box-shadow: 0px 1px 2px rgba(60, 64, 67, 0.3), 0px 1px 3px 1px rgba(60, 64, 67, 0.15);\n",
              "      fill: #174EA6;\n",
              "    }\n",
              "\n",
              "    [theme=dark] .colab-df-convert {\n",
              "      background-color: #3B4455;\n",
              "      fill: #D2E3FC;\n",
              "    }\n",
              "\n",
              "    [theme=dark] .colab-df-convert:hover {\n",
              "      background-color: #434B5C;\n",
              "      box-shadow: 0px 1px 3px 1px rgba(0, 0, 0, 0.15);\n",
              "      filter: drop-shadow(0px 1px 2px rgba(0, 0, 0, 0.3));\n",
              "      fill: #FFFFFF;\n",
              "    }\n",
              "  </style>\n",
              "\n",
              "      <script>\n",
              "        const buttonEl =\n",
              "          document.querySelector('#df-4be171e3-492c-4268-9231-49b6554ac872 button.colab-df-convert');\n",
              "        buttonEl.style.display =\n",
              "          google.colab.kernel.accessAllowed ? 'block' : 'none';\n",
              "\n",
              "        async function convertToInteractive(key) {\n",
              "          const element = document.querySelector('#df-4be171e3-492c-4268-9231-49b6554ac872');\n",
              "          const dataTable =\n",
              "            await google.colab.kernel.invokeFunction('convertToInteractive',\n",
              "                                                     [key], {});\n",
              "          if (!dataTable) return;\n",
              "\n",
              "          const docLinkHtml = 'Like what you see? Visit the ' +\n",
              "            '<a target=\"_blank\" href=https://colab.research.google.com/notebooks/data_table.ipynb>data table notebook</a>'\n",
              "            + ' to learn more about interactive tables.';\n",
              "          element.innerHTML = '';\n",
              "          dataTable['output_type'] = 'display_data';\n",
              "          await google.colab.output.renderOutput(dataTable, element);\n",
              "          const docLink = document.createElement('div');\n",
              "          docLink.innerHTML = docLinkHtml;\n",
              "          element.appendChild(docLink);\n",
              "        }\n",
              "      </script>\n",
              "    </div>\n",
              "  </div>\n",
              "  "
            ]
          },
          "metadata": {},
          "execution_count": 6
        }
      ],
      "source": [
        "df_issues[\"labels\"] = (df_issues[\"labels\"]\n",
        "                       .apply(lambda x: [meta[\"name\"] for meta in x]))\n",
        "df_issues[[\"labels\"]].head()"
      ]
    },
    {
      "cell_type": "code",
      "execution_count": 7,
      "metadata": {
        "colab": {
          "base_uri": "https://localhost:8080/",
          "height": 81
        },
        "id": "JPPdQ_XuFtdI",
        "outputId": "cedcf15a-8964-4cd4-9511-c1a1559041a9"
      },
      "outputs": [
        {
          "output_type": "execute_result",
          "data": {
            "text/plain": [
              "           0     1    2    3   4  5\n",
              "labels  6440  3057  305  100  25  3"
            ],
            "text/html": [
              "\n",
              "  <div id=\"df-e87baf90-6e89-4aa8-8e1a-4f6383dab769\">\n",
              "    <div class=\"colab-df-container\">\n",
              "      <div>\n",
              "<style scoped>\n",
              "    .dataframe tbody tr th:only-of-type {\n",
              "        vertical-align: middle;\n",
              "    }\n",
              "\n",
              "    .dataframe tbody tr th {\n",
              "        vertical-align: top;\n",
              "    }\n",
              "\n",
              "    .dataframe thead th {\n",
              "        text-align: right;\n",
              "    }\n",
              "</style>\n",
              "<table border=\"1\" class=\"dataframe\">\n",
              "  <thead>\n",
              "    <tr style=\"text-align: right;\">\n",
              "      <th></th>\n",
              "      <th>0</th>\n",
              "      <th>1</th>\n",
              "      <th>2</th>\n",
              "      <th>3</th>\n",
              "      <th>4</th>\n",
              "      <th>5</th>\n",
              "    </tr>\n",
              "  </thead>\n",
              "  <tbody>\n",
              "    <tr>\n",
              "      <th>labels</th>\n",
              "      <td>6440</td>\n",
              "      <td>3057</td>\n",
              "      <td>305</td>\n",
              "      <td>100</td>\n",
              "      <td>25</td>\n",
              "      <td>3</td>\n",
              "    </tr>\n",
              "  </tbody>\n",
              "</table>\n",
              "</div>\n",
              "      <button class=\"colab-df-convert\" onclick=\"convertToInteractive('df-e87baf90-6e89-4aa8-8e1a-4f6383dab769')\"\n",
              "              title=\"Convert this dataframe to an interactive table.\"\n",
              "              style=\"display:none;\">\n",
              "        \n",
              "  <svg xmlns=\"http://www.w3.org/2000/svg\" height=\"24px\"viewBox=\"0 0 24 24\"\n",
              "       width=\"24px\">\n",
              "    <path d=\"M0 0h24v24H0V0z\" fill=\"none\"/>\n",
              "    <path d=\"M18.56 5.44l.94 2.06.94-2.06 2.06-.94-2.06-.94-.94-2.06-.94 2.06-2.06.94zm-11 1L8.5 8.5l.94-2.06 2.06-.94-2.06-.94L8.5 2.5l-.94 2.06-2.06.94zm10 10l.94 2.06.94-2.06 2.06-.94-2.06-.94-.94-2.06-.94 2.06-2.06.94z\"/><path d=\"M17.41 7.96l-1.37-1.37c-.4-.4-.92-.59-1.43-.59-.52 0-1.04.2-1.43.59L10.3 9.45l-7.72 7.72c-.78.78-.78 2.05 0 2.83L4 21.41c.39.39.9.59 1.41.59.51 0 1.02-.2 1.41-.59l7.78-7.78 2.81-2.81c.8-.78.8-2.07 0-2.86zM5.41 20L4 18.59l7.72-7.72 1.47 1.35L5.41 20z\"/>\n",
              "  </svg>\n",
              "      </button>\n",
              "      \n",
              "  <style>\n",
              "    .colab-df-container {\n",
              "      display:flex;\n",
              "      flex-wrap:wrap;\n",
              "      gap: 12px;\n",
              "    }\n",
              "\n",
              "    .colab-df-convert {\n",
              "      background-color: #E8F0FE;\n",
              "      border: none;\n",
              "      border-radius: 50%;\n",
              "      cursor: pointer;\n",
              "      display: none;\n",
              "      fill: #1967D2;\n",
              "      height: 32px;\n",
              "      padding: 0 0 0 0;\n",
              "      width: 32px;\n",
              "    }\n",
              "\n",
              "    .colab-df-convert:hover {\n",
              "      background-color: #E2EBFA;\n",
              "      box-shadow: 0px 1px 2px rgba(60, 64, 67, 0.3), 0px 1px 3px 1px rgba(60, 64, 67, 0.15);\n",
              "      fill: #174EA6;\n",
              "    }\n",
              "\n",
              "    [theme=dark] .colab-df-convert {\n",
              "      background-color: #3B4455;\n",
              "      fill: #D2E3FC;\n",
              "    }\n",
              "\n",
              "    [theme=dark] .colab-df-convert:hover {\n",
              "      background-color: #434B5C;\n",
              "      box-shadow: 0px 1px 3px 1px rgba(0, 0, 0, 0.15);\n",
              "      filter: drop-shadow(0px 1px 2px rgba(0, 0, 0, 0.3));\n",
              "      fill: #FFFFFF;\n",
              "    }\n",
              "  </style>\n",
              "\n",
              "      <script>\n",
              "        const buttonEl =\n",
              "          document.querySelector('#df-e87baf90-6e89-4aa8-8e1a-4f6383dab769 button.colab-df-convert');\n",
              "        buttonEl.style.display =\n",
              "          google.colab.kernel.accessAllowed ? 'block' : 'none';\n",
              "\n",
              "        async function convertToInteractive(key) {\n",
              "          const element = document.querySelector('#df-e87baf90-6e89-4aa8-8e1a-4f6383dab769');\n",
              "          const dataTable =\n",
              "            await google.colab.kernel.invokeFunction('convertToInteractive',\n",
              "                                                     [key], {});\n",
              "          if (!dataTable) return;\n",
              "\n",
              "          const docLinkHtml = 'Like what you see? Visit the ' +\n",
              "            '<a target=\"_blank\" href=https://colab.research.google.com/notebooks/data_table.ipynb>data table notebook</a>'\n",
              "            + ' to learn more about interactive tables.';\n",
              "          element.innerHTML = '';\n",
              "          dataTable['output_type'] = 'display_data';\n",
              "          await google.colab.output.renderOutput(dataTable, element);\n",
              "          const docLink = document.createElement('div');\n",
              "          docLink.innerHTML = docLinkHtml;\n",
              "          element.appendChild(docLink);\n",
              "        }\n",
              "      </script>\n",
              "    </div>\n",
              "  </div>\n",
              "  "
            ]
          },
          "metadata": {},
          "execution_count": 7
        }
      ],
      "source": [
        "df_issues[\"labels\"].apply(lambda x : len(x)).value_counts().to_frame().T"
      ]
    },
    {
      "cell_type": "code",
      "execution_count": 8,
      "metadata": {
        "colab": {
          "base_uri": "https://localhost:8080/",
          "height": 177
        },
        "id": "bPr7mVXMFtdI",
        "outputId": "4ce3a1b4-6568-428a-e8ad-969d2912d689"
      },
      "outputs": [
        {
          "output_type": "stream",
          "name": "stdout",
          "text": [
            "레이블 개수: 65\n"
          ]
        },
        {
          "output_type": "execute_result",
          "data": {
            "text/plain": [
              "        wontfix  model card  Core: Tokenization  New model  Core: Modeling  \\\n",
              "labels     2284         649                 106         98              64   \n",
              "\n",
              "        Help wanted  Good First Issue  Usage  \n",
              "labels           52                50     46  "
            ],
            "text/html": [
              "\n",
              "  <div id=\"df-3d6f5183-412d-4c5f-881e-78db12177638\">\n",
              "    <div class=\"colab-df-container\">\n",
              "      <div>\n",
              "<style scoped>\n",
              "    .dataframe tbody tr th:only-of-type {\n",
              "        vertical-align: middle;\n",
              "    }\n",
              "\n",
              "    .dataframe tbody tr th {\n",
              "        vertical-align: top;\n",
              "    }\n",
              "\n",
              "    .dataframe thead th {\n",
              "        text-align: right;\n",
              "    }\n",
              "</style>\n",
              "<table border=\"1\" class=\"dataframe\">\n",
              "  <thead>\n",
              "    <tr style=\"text-align: right;\">\n",
              "      <th></th>\n",
              "      <th>wontfix</th>\n",
              "      <th>model card</th>\n",
              "      <th>Core: Tokenization</th>\n",
              "      <th>New model</th>\n",
              "      <th>Core: Modeling</th>\n",
              "      <th>Help wanted</th>\n",
              "      <th>Good First Issue</th>\n",
              "      <th>Usage</th>\n",
              "    </tr>\n",
              "  </thead>\n",
              "  <tbody>\n",
              "    <tr>\n",
              "      <th>labels</th>\n",
              "      <td>2284</td>\n",
              "      <td>649</td>\n",
              "      <td>106</td>\n",
              "      <td>98</td>\n",
              "      <td>64</td>\n",
              "      <td>52</td>\n",
              "      <td>50</td>\n",
              "      <td>46</td>\n",
              "    </tr>\n",
              "  </tbody>\n",
              "</table>\n",
              "</div>\n",
              "      <button class=\"colab-df-convert\" onclick=\"convertToInteractive('df-3d6f5183-412d-4c5f-881e-78db12177638')\"\n",
              "              title=\"Convert this dataframe to an interactive table.\"\n",
              "              style=\"display:none;\">\n",
              "        \n",
              "  <svg xmlns=\"http://www.w3.org/2000/svg\" height=\"24px\"viewBox=\"0 0 24 24\"\n",
              "       width=\"24px\">\n",
              "    <path d=\"M0 0h24v24H0V0z\" fill=\"none\"/>\n",
              "    <path d=\"M18.56 5.44l.94 2.06.94-2.06 2.06-.94-2.06-.94-.94-2.06-.94 2.06-2.06.94zm-11 1L8.5 8.5l.94-2.06 2.06-.94-2.06-.94L8.5 2.5l-.94 2.06-2.06.94zm10 10l.94 2.06.94-2.06 2.06-.94-2.06-.94-.94-2.06-.94 2.06-2.06.94z\"/><path d=\"M17.41 7.96l-1.37-1.37c-.4-.4-.92-.59-1.43-.59-.52 0-1.04.2-1.43.59L10.3 9.45l-7.72 7.72c-.78.78-.78 2.05 0 2.83L4 21.41c.39.39.9.59 1.41.59.51 0 1.02-.2 1.41-.59l7.78-7.78 2.81-2.81c.8-.78.8-2.07 0-2.86zM5.41 20L4 18.59l7.72-7.72 1.47 1.35L5.41 20z\"/>\n",
              "  </svg>\n",
              "      </button>\n",
              "      \n",
              "  <style>\n",
              "    .colab-df-container {\n",
              "      display:flex;\n",
              "      flex-wrap:wrap;\n",
              "      gap: 12px;\n",
              "    }\n",
              "\n",
              "    .colab-df-convert {\n",
              "      background-color: #E8F0FE;\n",
              "      border: none;\n",
              "      border-radius: 50%;\n",
              "      cursor: pointer;\n",
              "      display: none;\n",
              "      fill: #1967D2;\n",
              "      height: 32px;\n",
              "      padding: 0 0 0 0;\n",
              "      width: 32px;\n",
              "    }\n",
              "\n",
              "    .colab-df-convert:hover {\n",
              "      background-color: #E2EBFA;\n",
              "      box-shadow: 0px 1px 2px rgba(60, 64, 67, 0.3), 0px 1px 3px 1px rgba(60, 64, 67, 0.15);\n",
              "      fill: #174EA6;\n",
              "    }\n",
              "\n",
              "    [theme=dark] .colab-df-convert {\n",
              "      background-color: #3B4455;\n",
              "      fill: #D2E3FC;\n",
              "    }\n",
              "\n",
              "    [theme=dark] .colab-df-convert:hover {\n",
              "      background-color: #434B5C;\n",
              "      box-shadow: 0px 1px 3px 1px rgba(0, 0, 0, 0.15);\n",
              "      filter: drop-shadow(0px 1px 2px rgba(0, 0, 0, 0.3));\n",
              "      fill: #FFFFFF;\n",
              "    }\n",
              "  </style>\n",
              "\n",
              "      <script>\n",
              "        const buttonEl =\n",
              "          document.querySelector('#df-3d6f5183-412d-4c5f-881e-78db12177638 button.colab-df-convert');\n",
              "        buttonEl.style.display =\n",
              "          google.colab.kernel.accessAllowed ? 'block' : 'none';\n",
              "\n",
              "        async function convertToInteractive(key) {\n",
              "          const element = document.querySelector('#df-3d6f5183-412d-4c5f-881e-78db12177638');\n",
              "          const dataTable =\n",
              "            await google.colab.kernel.invokeFunction('convertToInteractive',\n",
              "                                                     [key], {});\n",
              "          if (!dataTable) return;\n",
              "\n",
              "          const docLinkHtml = 'Like what you see? Visit the ' +\n",
              "            '<a target=\"_blank\" href=https://colab.research.google.com/notebooks/data_table.ipynb>data table notebook</a>'\n",
              "            + ' to learn more about interactive tables.';\n",
              "          element.innerHTML = '';\n",
              "          dataTable['output_type'] = 'display_data';\n",
              "          await google.colab.output.renderOutput(dataTable, element);\n",
              "          const docLink = document.createElement('div');\n",
              "          docLink.innerHTML = docLinkHtml;\n",
              "          element.appendChild(docLink);\n",
              "        }\n",
              "      </script>\n",
              "    </div>\n",
              "  </div>\n",
              "  "
            ]
          },
          "metadata": {},
          "execution_count": 8
        }
      ],
      "source": [
        "df_counts = df_issues[\"labels\"].explode().value_counts()\n",
        "print(f\"레이블 개수: {len(df_counts)}\")\n",
        "# 상위 8개 레이블을 출력합니다.\n",
        "df_counts.to_frame().head(8).T"
      ]
    },
    {
      "cell_type": "code",
      "execution_count": 9,
      "metadata": {
        "id": "OmfYdulpFtdI"
      },
      "outputs": [],
      "source": [
        "label_map = {\"Core: Tokenization\": \"tokenization\",\n",
        "             \"New model\": \"new model\",\n",
        "             \"Core: Modeling\": \"model training\",\n",
        "             \"Usage\": \"usage\",\n",
        "             \"Core: Pipeline\": \"pipeline\",\n",
        "             \"TensorFlow\": \"tensorflow or tf\",\n",
        "             \"PyTorch\": \"pytorch\",\n",
        "             \"Examples\": \"examples\",\n",
        "             \"Documentation\": \"documentation\"}\n",
        "\n",
        "def filter_labels(x):\n",
        "    return [label_map[label] for label in x if label in label_map]\n",
        "\n",
        "df_issues[\"labels\"] = df_issues[\"labels\"].apply(filter_labels)\n",
        "all_labels = list(label_map.values())"
      ]
    },
    {
      "cell_type": "code",
      "execution_count": 10,
      "metadata": {
        "colab": {
          "base_uri": "https://localhost:8080/",
          "height": 162
        },
        "id": "Nf7NrF5XFtdI",
        "outputId": "f0f9b69a-4bb8-4d08-b658-ba5145caa87c"
      },
      "outputs": [
        {
          "output_type": "execute_result",
          "data": {
            "text/plain": [
              "        tokenization  new model  model training  usage  pipeline  \\\n",
              "labels           106         98              64     46        42   \n",
              "\n",
              "        tensorflow or tf  pytorch  documentation  examples  \n",
              "labels                41       37             28        24  "
            ],
            "text/html": [
              "\n",
              "  <div id=\"df-ecefa7f4-a732-4288-8835-37f8f91d0c20\">\n",
              "    <div class=\"colab-df-container\">\n",
              "      <div>\n",
              "<style scoped>\n",
              "    .dataframe tbody tr th:only-of-type {\n",
              "        vertical-align: middle;\n",
              "    }\n",
              "\n",
              "    .dataframe tbody tr th {\n",
              "        vertical-align: top;\n",
              "    }\n",
              "\n",
              "    .dataframe thead th {\n",
              "        text-align: right;\n",
              "    }\n",
              "</style>\n",
              "<table border=\"1\" class=\"dataframe\">\n",
              "  <thead>\n",
              "    <tr style=\"text-align: right;\">\n",
              "      <th></th>\n",
              "      <th>tokenization</th>\n",
              "      <th>new model</th>\n",
              "      <th>model training</th>\n",
              "      <th>usage</th>\n",
              "      <th>pipeline</th>\n",
              "      <th>tensorflow or tf</th>\n",
              "      <th>pytorch</th>\n",
              "      <th>documentation</th>\n",
              "      <th>examples</th>\n",
              "    </tr>\n",
              "  </thead>\n",
              "  <tbody>\n",
              "    <tr>\n",
              "      <th>labels</th>\n",
              "      <td>106</td>\n",
              "      <td>98</td>\n",
              "      <td>64</td>\n",
              "      <td>46</td>\n",
              "      <td>42</td>\n",
              "      <td>41</td>\n",
              "      <td>37</td>\n",
              "      <td>28</td>\n",
              "      <td>24</td>\n",
              "    </tr>\n",
              "  </tbody>\n",
              "</table>\n",
              "</div>\n",
              "      <button class=\"colab-df-convert\" onclick=\"convertToInteractive('df-ecefa7f4-a732-4288-8835-37f8f91d0c20')\"\n",
              "              title=\"Convert this dataframe to an interactive table.\"\n",
              "              style=\"display:none;\">\n",
              "        \n",
              "  <svg xmlns=\"http://www.w3.org/2000/svg\" height=\"24px\"viewBox=\"0 0 24 24\"\n",
              "       width=\"24px\">\n",
              "    <path d=\"M0 0h24v24H0V0z\" fill=\"none\"/>\n",
              "    <path d=\"M18.56 5.44l.94 2.06.94-2.06 2.06-.94-2.06-.94-.94-2.06-.94 2.06-2.06.94zm-11 1L8.5 8.5l.94-2.06 2.06-.94-2.06-.94L8.5 2.5l-.94 2.06-2.06.94zm10 10l.94 2.06.94-2.06 2.06-.94-2.06-.94-.94-2.06-.94 2.06-2.06.94z\"/><path d=\"M17.41 7.96l-1.37-1.37c-.4-.4-.92-.59-1.43-.59-.52 0-1.04.2-1.43.59L10.3 9.45l-7.72 7.72c-.78.78-.78 2.05 0 2.83L4 21.41c.39.39.9.59 1.41.59.51 0 1.02-.2 1.41-.59l7.78-7.78 2.81-2.81c.8-.78.8-2.07 0-2.86zM5.41 20L4 18.59l7.72-7.72 1.47 1.35L5.41 20z\"/>\n",
              "  </svg>\n",
              "      </button>\n",
              "      \n",
              "  <style>\n",
              "    .colab-df-container {\n",
              "      display:flex;\n",
              "      flex-wrap:wrap;\n",
              "      gap: 12px;\n",
              "    }\n",
              "\n",
              "    .colab-df-convert {\n",
              "      background-color: #E8F0FE;\n",
              "      border: none;\n",
              "      border-radius: 50%;\n",
              "      cursor: pointer;\n",
              "      display: none;\n",
              "      fill: #1967D2;\n",
              "      height: 32px;\n",
              "      padding: 0 0 0 0;\n",
              "      width: 32px;\n",
              "    }\n",
              "\n",
              "    .colab-df-convert:hover {\n",
              "      background-color: #E2EBFA;\n",
              "      box-shadow: 0px 1px 2px rgba(60, 64, 67, 0.3), 0px 1px 3px 1px rgba(60, 64, 67, 0.15);\n",
              "      fill: #174EA6;\n",
              "    }\n",
              "\n",
              "    [theme=dark] .colab-df-convert {\n",
              "      background-color: #3B4455;\n",
              "      fill: #D2E3FC;\n",
              "    }\n",
              "\n",
              "    [theme=dark] .colab-df-convert:hover {\n",
              "      background-color: #434B5C;\n",
              "      box-shadow: 0px 1px 3px 1px rgba(0, 0, 0, 0.15);\n",
              "      filter: drop-shadow(0px 1px 2px rgba(0, 0, 0, 0.3));\n",
              "      fill: #FFFFFF;\n",
              "    }\n",
              "  </style>\n",
              "\n",
              "      <script>\n",
              "        const buttonEl =\n",
              "          document.querySelector('#df-ecefa7f4-a732-4288-8835-37f8f91d0c20 button.colab-df-convert');\n",
              "        buttonEl.style.display =\n",
              "          google.colab.kernel.accessAllowed ? 'block' : 'none';\n",
              "\n",
              "        async function convertToInteractive(key) {\n",
              "          const element = document.querySelector('#df-ecefa7f4-a732-4288-8835-37f8f91d0c20');\n",
              "          const dataTable =\n",
              "            await google.colab.kernel.invokeFunction('convertToInteractive',\n",
              "                                                     [key], {});\n",
              "          if (!dataTable) return;\n",
              "\n",
              "          const docLinkHtml = 'Like what you see? Visit the ' +\n",
              "            '<a target=\"_blank\" href=https://colab.research.google.com/notebooks/data_table.ipynb>data table notebook</a>'\n",
              "            + ' to learn more about interactive tables.';\n",
              "          element.innerHTML = '';\n",
              "          dataTable['output_type'] = 'display_data';\n",
              "          await google.colab.output.renderOutput(dataTable, element);\n",
              "          const docLink = document.createElement('div');\n",
              "          docLink.innerHTML = docLinkHtml;\n",
              "          element.appendChild(docLink);\n",
              "        }\n",
              "      </script>\n",
              "    </div>\n",
              "  </div>\n",
              "  "
            ]
          },
          "metadata": {},
          "execution_count": 10
        }
      ],
      "source": [
        "df_counts = df_issues[\"labels\"].explode().value_counts()\n",
        "df_counts.to_frame().T"
      ]
    },
    {
      "cell_type": "code",
      "execution_count": 11,
      "metadata": {
        "colab": {
          "base_uri": "https://localhost:8080/",
          "height": 112
        },
        "id": "8OzaFeZSFtdJ",
        "outputId": "e3a8bafa-b3fc-4ba5-ec30-46cacf199d2d"
      },
      "outputs": [
        {
          "output_type": "execute_result",
          "data": {
            "text/plain": [
              "           split\n",
              "unlabeled   9489\n",
              "labeled      441"
            ],
            "text/html": [
              "\n",
              "  <div id=\"df-c432a19e-3852-460c-a971-ebcdf32a1401\">\n",
              "    <div class=\"colab-df-container\">\n",
              "      <div>\n",
              "<style scoped>\n",
              "    .dataframe tbody tr th:only-of-type {\n",
              "        vertical-align: middle;\n",
              "    }\n",
              "\n",
              "    .dataframe tbody tr th {\n",
              "        vertical-align: top;\n",
              "    }\n",
              "\n",
              "    .dataframe thead th {\n",
              "        text-align: right;\n",
              "    }\n",
              "</style>\n",
              "<table border=\"1\" class=\"dataframe\">\n",
              "  <thead>\n",
              "    <tr style=\"text-align: right;\">\n",
              "      <th></th>\n",
              "      <th>split</th>\n",
              "    </tr>\n",
              "  </thead>\n",
              "  <tbody>\n",
              "    <tr>\n",
              "      <th>unlabeled</th>\n",
              "      <td>9489</td>\n",
              "    </tr>\n",
              "    <tr>\n",
              "      <th>labeled</th>\n",
              "      <td>441</td>\n",
              "    </tr>\n",
              "  </tbody>\n",
              "</table>\n",
              "</div>\n",
              "      <button class=\"colab-df-convert\" onclick=\"convertToInteractive('df-c432a19e-3852-460c-a971-ebcdf32a1401')\"\n",
              "              title=\"Convert this dataframe to an interactive table.\"\n",
              "              style=\"display:none;\">\n",
              "        \n",
              "  <svg xmlns=\"http://www.w3.org/2000/svg\" height=\"24px\"viewBox=\"0 0 24 24\"\n",
              "       width=\"24px\">\n",
              "    <path d=\"M0 0h24v24H0V0z\" fill=\"none\"/>\n",
              "    <path d=\"M18.56 5.44l.94 2.06.94-2.06 2.06-.94-2.06-.94-.94-2.06-.94 2.06-2.06.94zm-11 1L8.5 8.5l.94-2.06 2.06-.94-2.06-.94L8.5 2.5l-.94 2.06-2.06.94zm10 10l.94 2.06.94-2.06 2.06-.94-2.06-.94-.94-2.06-.94 2.06-2.06.94z\"/><path d=\"M17.41 7.96l-1.37-1.37c-.4-.4-.92-.59-1.43-.59-.52 0-1.04.2-1.43.59L10.3 9.45l-7.72 7.72c-.78.78-.78 2.05 0 2.83L4 21.41c.39.39.9.59 1.41.59.51 0 1.02-.2 1.41-.59l7.78-7.78 2.81-2.81c.8-.78.8-2.07 0-2.86zM5.41 20L4 18.59l7.72-7.72 1.47 1.35L5.41 20z\"/>\n",
              "  </svg>\n",
              "      </button>\n",
              "      \n",
              "  <style>\n",
              "    .colab-df-container {\n",
              "      display:flex;\n",
              "      flex-wrap:wrap;\n",
              "      gap: 12px;\n",
              "    }\n",
              "\n",
              "    .colab-df-convert {\n",
              "      background-color: #E8F0FE;\n",
              "      border: none;\n",
              "      border-radius: 50%;\n",
              "      cursor: pointer;\n",
              "      display: none;\n",
              "      fill: #1967D2;\n",
              "      height: 32px;\n",
              "      padding: 0 0 0 0;\n",
              "      width: 32px;\n",
              "    }\n",
              "\n",
              "    .colab-df-convert:hover {\n",
              "      background-color: #E2EBFA;\n",
              "      box-shadow: 0px 1px 2px rgba(60, 64, 67, 0.3), 0px 1px 3px 1px rgba(60, 64, 67, 0.15);\n",
              "      fill: #174EA6;\n",
              "    }\n",
              "\n",
              "    [theme=dark] .colab-df-convert {\n",
              "      background-color: #3B4455;\n",
              "      fill: #D2E3FC;\n",
              "    }\n",
              "\n",
              "    [theme=dark] .colab-df-convert:hover {\n",
              "      background-color: #434B5C;\n",
              "      box-shadow: 0px 1px 3px 1px rgba(0, 0, 0, 0.15);\n",
              "      filter: drop-shadow(0px 1px 2px rgba(0, 0, 0, 0.3));\n",
              "      fill: #FFFFFF;\n",
              "    }\n",
              "  </style>\n",
              "\n",
              "      <script>\n",
              "        const buttonEl =\n",
              "          document.querySelector('#df-c432a19e-3852-460c-a971-ebcdf32a1401 button.colab-df-convert');\n",
              "        buttonEl.style.display =\n",
              "          google.colab.kernel.accessAllowed ? 'block' : 'none';\n",
              "\n",
              "        async function convertToInteractive(key) {\n",
              "          const element = document.querySelector('#df-c432a19e-3852-460c-a971-ebcdf32a1401');\n",
              "          const dataTable =\n",
              "            await google.colab.kernel.invokeFunction('convertToInteractive',\n",
              "                                                     [key], {});\n",
              "          if (!dataTable) return;\n",
              "\n",
              "          const docLinkHtml = 'Like what you see? Visit the ' +\n",
              "            '<a target=\"_blank\" href=https://colab.research.google.com/notebooks/data_table.ipynb>data table notebook</a>'\n",
              "            + ' to learn more about interactive tables.';\n",
              "          element.innerHTML = '';\n",
              "          dataTable['output_type'] = 'display_data';\n",
              "          await google.colab.output.renderOutput(dataTable, element);\n",
              "          const docLink = document.createElement('div');\n",
              "          docLink.innerHTML = docLinkHtml;\n",
              "          element.appendChild(docLink);\n",
              "        }\n",
              "      </script>\n",
              "    </div>\n",
              "  </div>\n",
              "  "
            ]
          },
          "metadata": {},
          "execution_count": 11
        }
      ],
      "source": [
        "df_issues[\"split\"] = \"unlabeled\"\n",
        "mask = df_issues[\"labels\"].apply(lambda x: len(x)) > 0\n",
        "df_issues.loc[mask, \"split\"] = \"labeled\"\n",
        "df_issues[\"split\"].value_counts().to_frame()"
      ]
    },
    {
      "cell_type": "code",
      "execution_count": 12,
      "metadata": {
        "colab": {
          "base_uri": "https://localhost:8080/"
        },
        "id": "DgVoIgAqFtdJ",
        "outputId": "8a37ad23-84e0-4416-9778-7220dc7ac6fa"
      },
      "outputs": [
        {
          "output_type": "stream",
          "name": "stdout",
          "text": [
            "title: Add new CANINE model\n",
            "\n",
            "body: # 🌟 New model addition\n",
            "\n",
            "## Model description\n",
            "\n",
            "Google recently proposed a new **C**haracter **A**rchitecture with **N**o\n",
            "tokenization **I**n **N**eural **E**ncoders architecture (CANINE). Not only the\n",
            "title is exciting:\n",
            "\n",
            "> Pipelined NLP systems have largely been superseded by end-to-end neural\n",
            "modeling, yet nearly all commonly-used models still require an explicit\n",
            "tokenization step. While recent tokenization approaches based on data-derived\n",
            "subword lexicons are less brittle than manually en\n",
            "\n",
            "labels: ['new model']\n",
            "\n"
          ]
        }
      ],
      "source": [
        "for column in [\"title\", \"body\", \"labels\"]:\n",
        "    print(f\"{column}: {df_issues[column].iloc[26][:500]}\\n\")"
      ]
    },
    {
      "cell_type": "code",
      "execution_count": 13,
      "metadata": {
        "id": "Of6OR_7_FtdJ"
      },
      "outputs": [],
      "source": [
        "df_issues[\"text\"] = (df_issues\n",
        "                     .apply(lambda x: x[\"title\"] + \"\\n\\n\" + x[\"body\"], axis=1))"
      ]
    },
    {
      "cell_type": "code",
      "execution_count": 14,
      "metadata": {
        "colab": {
          "base_uri": "https://localhost:8080/"
        },
        "id": "ToNC_hcjFtdJ",
        "outputId": "f8c1d978-25ef-403b-e4ca-b3d2a3e47438"
      },
      "outputs": [
        {
          "output_type": "stream",
          "name": "stdout",
          "text": [
            "삭제된 중복 이슈: 1.88%\n"
          ]
        }
      ],
      "source": [
        "len_before = len(df_issues)\n",
        "df_issues = df_issues.drop_duplicates(subset=\"text\")\n",
        "print(f\"삭제된 중복 이슈: {(len_before-len(df_issues))/len_before:.2%}\")"
      ]
    },
    {
      "cell_type": "code",
      "execution_count": 15,
      "metadata": {
        "colab": {
          "base_uri": "https://localhost:8080/",
          "height": 389
        },
        "id": "A3h6GhQyFtdK",
        "outputId": "b61513dd-c586-4723-c35f-9885de8d3cad"
      },
      "outputs": [
        {
          "output_type": "error",
          "ename": "KeyboardInterrupt",
          "evalue": "ignored",
          "traceback": [
            "\u001b[0;31m---------------------------------------------------------------------------\u001b[0m",
            "\u001b[0;31mKeyboardInterrupt\u001b[0m                         Traceback (most recent call last)",
            "\u001b[0;32m<ipython-input-15-58ca446636b6>\u001b[0m in \u001b[0;36m<module>\u001b[0;34m\u001b[0m\n\u001b[1;32m      7\u001b[0m \u001b[0mplt\u001b[0m\u001b[0;34m.\u001b[0m\u001b[0mxlabel\u001b[0m\u001b[0;34m(\u001b[0m\u001b[0;34m\"Number of words\"\u001b[0m\u001b[0;34m)\u001b[0m\u001b[0;34m\u001b[0m\u001b[0;34m\u001b[0m\u001b[0m\n\u001b[1;32m      8\u001b[0m \u001b[0mplt\u001b[0m\u001b[0;34m.\u001b[0m\u001b[0mylabel\u001b[0m\u001b[0;34m(\u001b[0m\u001b[0;34m\"Number of issues\"\u001b[0m\u001b[0;34m)\u001b[0m\u001b[0;34m\u001b[0m\u001b[0;34m\u001b[0m\u001b[0m\n\u001b[0;32m----> 9\u001b[0;31m \u001b[0mplt\u001b[0m\u001b[0;34m.\u001b[0m\u001b[0mshow\u001b[0m\u001b[0;34m(\u001b[0m\u001b[0;34m)\u001b[0m\u001b[0;34m\u001b[0m\u001b[0;34m\u001b[0m\u001b[0m\n\u001b[0m",
            "\u001b[0;32m/usr/local/lib/python3.7/dist-packages/matplotlib/pyplot.py\u001b[0m in \u001b[0;36mshow\u001b[0;34m(*args, **kw)\u001b[0m\n\u001b[1;32m    270\u001b[0m     \"\"\"\n\u001b[1;32m    271\u001b[0m     \u001b[0;32mglobal\u001b[0m \u001b[0m_show\u001b[0m\u001b[0;34m\u001b[0m\u001b[0;34m\u001b[0m\u001b[0m\n\u001b[0;32m--> 272\u001b[0;31m     \u001b[0;32mreturn\u001b[0m \u001b[0m_show\u001b[0m\u001b[0;34m(\u001b[0m\u001b[0;34m*\u001b[0m\u001b[0margs\u001b[0m\u001b[0;34m,\u001b[0m \u001b[0;34m**\u001b[0m\u001b[0mkw\u001b[0m\u001b[0;34m)\u001b[0m\u001b[0;34m\u001b[0m\u001b[0;34m\u001b[0m\u001b[0m\n\u001b[0m\u001b[1;32m    273\u001b[0m \u001b[0;34m\u001b[0m\u001b[0m\n\u001b[1;32m    274\u001b[0m \u001b[0;34m\u001b[0m\u001b[0m\n",
            "\u001b[0;32m/usr/local/lib/python3.7/dist-packages/ipykernel/pylab/backend_inline.py\u001b[0m in \u001b[0;36mshow\u001b[0;34m(close, block)\u001b[0m\n\u001b[1;32m     41\u001b[0m             display(\n\u001b[1;32m     42\u001b[0m                 \u001b[0mfigure_manager\u001b[0m\u001b[0;34m.\u001b[0m\u001b[0mcanvas\u001b[0m\u001b[0;34m.\u001b[0m\u001b[0mfigure\u001b[0m\u001b[0;34m,\u001b[0m\u001b[0;34m\u001b[0m\u001b[0;34m\u001b[0m\u001b[0m\n\u001b[0;32m---> 43\u001b[0;31m                 \u001b[0mmetadata\u001b[0m\u001b[0;34m=\u001b[0m\u001b[0m_fetch_figure_metadata\u001b[0m\u001b[0;34m(\u001b[0m\u001b[0mfigure_manager\u001b[0m\u001b[0;34m.\u001b[0m\u001b[0mcanvas\u001b[0m\u001b[0;34m.\u001b[0m\u001b[0mfigure\u001b[0m\u001b[0;34m)\u001b[0m\u001b[0;34m\u001b[0m\u001b[0;34m\u001b[0m\u001b[0m\n\u001b[0m\u001b[1;32m     44\u001b[0m             )\n\u001b[1;32m     45\u001b[0m     \u001b[0;32mfinally\u001b[0m\u001b[0;34m:\u001b[0m\u001b[0;34m\u001b[0m\u001b[0;34m\u001b[0m\u001b[0m\n",
            "\u001b[0;32m/usr/local/lib/python3.7/dist-packages/IPython/core/display.py\u001b[0m in \u001b[0;36mdisplay\u001b[0;34m(include, exclude, metadata, transient, display_id, *objs, **kwargs)\u001b[0m\n\u001b[1;32m    311\u001b[0m             \u001b[0mpublish_display_data\u001b[0m\u001b[0;34m(\u001b[0m\u001b[0mdata\u001b[0m\u001b[0;34m=\u001b[0m\u001b[0mobj\u001b[0m\u001b[0;34m,\u001b[0m \u001b[0mmetadata\u001b[0m\u001b[0;34m=\u001b[0m\u001b[0mmetadata\u001b[0m\u001b[0;34m,\u001b[0m \u001b[0;34m**\u001b[0m\u001b[0mkwargs\u001b[0m\u001b[0;34m)\u001b[0m\u001b[0;34m\u001b[0m\u001b[0;34m\u001b[0m\u001b[0m\n\u001b[1;32m    312\u001b[0m         \u001b[0;32melse\u001b[0m\u001b[0;34m:\u001b[0m\u001b[0;34m\u001b[0m\u001b[0;34m\u001b[0m\u001b[0m\n\u001b[0;32m--> 313\u001b[0;31m             \u001b[0mformat_dict\u001b[0m\u001b[0;34m,\u001b[0m \u001b[0mmd_dict\u001b[0m \u001b[0;34m=\u001b[0m \u001b[0mformat\u001b[0m\u001b[0;34m(\u001b[0m\u001b[0mobj\u001b[0m\u001b[0;34m,\u001b[0m \u001b[0minclude\u001b[0m\u001b[0;34m=\u001b[0m\u001b[0minclude\u001b[0m\u001b[0;34m,\u001b[0m \u001b[0mexclude\u001b[0m\u001b[0;34m=\u001b[0m\u001b[0mexclude\u001b[0m\u001b[0;34m)\u001b[0m\u001b[0;34m\u001b[0m\u001b[0;34m\u001b[0m\u001b[0m\n\u001b[0m\u001b[1;32m    314\u001b[0m             \u001b[0;32mif\u001b[0m \u001b[0;32mnot\u001b[0m \u001b[0mformat_dict\u001b[0m\u001b[0;34m:\u001b[0m\u001b[0;34m\u001b[0m\u001b[0;34m\u001b[0m\u001b[0m\n\u001b[1;32m    315\u001b[0m                 \u001b[0;31m# nothing to display (e.g. _ipython_display_ took over)\u001b[0m\u001b[0;34m\u001b[0m\u001b[0;34m\u001b[0m\u001b[0;34m\u001b[0m\u001b[0m\n",
            "\u001b[0;32m/usr/local/lib/python3.7/dist-packages/IPython/core/formatters.py\u001b[0m in \u001b[0;36mformat\u001b[0;34m(self, obj, include, exclude)\u001b[0m\n\u001b[1;32m    178\u001b[0m             \u001b[0mmd\u001b[0m \u001b[0;34m=\u001b[0m \u001b[0;32mNone\u001b[0m\u001b[0;34m\u001b[0m\u001b[0;34m\u001b[0m\u001b[0m\n\u001b[1;32m    179\u001b[0m             \u001b[0;32mtry\u001b[0m\u001b[0;34m:\u001b[0m\u001b[0;34m\u001b[0m\u001b[0;34m\u001b[0m\u001b[0m\n\u001b[0;32m--> 180\u001b[0;31m                 \u001b[0mdata\u001b[0m \u001b[0;34m=\u001b[0m \u001b[0mformatter\u001b[0m\u001b[0;34m(\u001b[0m\u001b[0mobj\u001b[0m\u001b[0;34m)\u001b[0m\u001b[0;34m\u001b[0m\u001b[0;34m\u001b[0m\u001b[0m\n\u001b[0m\u001b[1;32m    181\u001b[0m             \u001b[0;32mexcept\u001b[0m\u001b[0;34m:\u001b[0m\u001b[0;34m\u001b[0m\u001b[0;34m\u001b[0m\u001b[0m\n\u001b[1;32m    182\u001b[0m                 \u001b[0;31m# FIXME: log the exception\u001b[0m\u001b[0;34m\u001b[0m\u001b[0;34m\u001b[0m\u001b[0;34m\u001b[0m\u001b[0m\n",
            "\u001b[0;32m<decorator-gen-2>\u001b[0m in \u001b[0;36m__call__\u001b[0;34m(self, obj)\u001b[0m\n",
            "\u001b[0;32m/usr/local/lib/python3.7/dist-packages/IPython/core/formatters.py\u001b[0m in \u001b[0;36mcatch_format_error\u001b[0;34m(method, self, *args, **kwargs)\u001b[0m\n\u001b[1;32m    222\u001b[0m     \u001b[0;34m\"\"\"show traceback on failed format call\"\"\"\u001b[0m\u001b[0;34m\u001b[0m\u001b[0;34m\u001b[0m\u001b[0m\n\u001b[1;32m    223\u001b[0m     \u001b[0;32mtry\u001b[0m\u001b[0;34m:\u001b[0m\u001b[0;34m\u001b[0m\u001b[0;34m\u001b[0m\u001b[0m\n\u001b[0;32m--> 224\u001b[0;31m         \u001b[0mr\u001b[0m \u001b[0;34m=\u001b[0m \u001b[0mmethod\u001b[0m\u001b[0;34m(\u001b[0m\u001b[0mself\u001b[0m\u001b[0;34m,\u001b[0m \u001b[0;34m*\u001b[0m\u001b[0margs\u001b[0m\u001b[0;34m,\u001b[0m \u001b[0;34m**\u001b[0m\u001b[0mkwargs\u001b[0m\u001b[0;34m)\u001b[0m\u001b[0;34m\u001b[0m\u001b[0;34m\u001b[0m\u001b[0m\n\u001b[0m\u001b[1;32m    225\u001b[0m     \u001b[0;32mexcept\u001b[0m \u001b[0mNotImplementedError\u001b[0m\u001b[0;34m:\u001b[0m\u001b[0;34m\u001b[0m\u001b[0;34m\u001b[0m\u001b[0m\n\u001b[1;32m    226\u001b[0m         \u001b[0;31m# don't warn on NotImplementedErrors\u001b[0m\u001b[0;34m\u001b[0m\u001b[0;34m\u001b[0m\u001b[0;34m\u001b[0m\u001b[0m\n",
            "\u001b[0;32m/usr/local/lib/python3.7/dist-packages/IPython/core/formatters.py\u001b[0m in \u001b[0;36m__call__\u001b[0;34m(self, obj)\u001b[0m\n\u001b[1;32m    339\u001b[0m                 \u001b[0;32mpass\u001b[0m\u001b[0;34m\u001b[0m\u001b[0;34m\u001b[0m\u001b[0m\n\u001b[1;32m    340\u001b[0m             \u001b[0;32melse\u001b[0m\u001b[0;34m:\u001b[0m\u001b[0;34m\u001b[0m\u001b[0;34m\u001b[0m\u001b[0m\n\u001b[0;32m--> 341\u001b[0;31m                 \u001b[0;32mreturn\u001b[0m \u001b[0mprinter\u001b[0m\u001b[0;34m(\u001b[0m\u001b[0mobj\u001b[0m\u001b[0;34m)\u001b[0m\u001b[0;34m\u001b[0m\u001b[0;34m\u001b[0m\u001b[0m\n\u001b[0m\u001b[1;32m    342\u001b[0m             \u001b[0;31m# Finally look for special method names\u001b[0m\u001b[0;34m\u001b[0m\u001b[0;34m\u001b[0m\u001b[0;34m\u001b[0m\u001b[0m\n\u001b[1;32m    343\u001b[0m             \u001b[0mmethod\u001b[0m \u001b[0;34m=\u001b[0m \u001b[0mget_real_method\u001b[0m\u001b[0;34m(\u001b[0m\u001b[0mobj\u001b[0m\u001b[0;34m,\u001b[0m \u001b[0mself\u001b[0m\u001b[0;34m.\u001b[0m\u001b[0mprint_method\u001b[0m\u001b[0;34m)\u001b[0m\u001b[0;34m\u001b[0m\u001b[0;34m\u001b[0m\u001b[0m\n",
            "\u001b[0;32m/usr/local/lib/python3.7/dist-packages/IPython/core/pylabtools.py\u001b[0m in \u001b[0;36m<lambda>\u001b[0;34m(fig)\u001b[0m\n\u001b[1;32m    250\u001b[0m         \u001b[0msvg_formatter\u001b[0m\u001b[0;34m.\u001b[0m\u001b[0mfor_type\u001b[0m\u001b[0;34m(\u001b[0m\u001b[0mFigure\u001b[0m\u001b[0;34m,\u001b[0m \u001b[0;32mlambda\u001b[0m \u001b[0mfig\u001b[0m\u001b[0;34m:\u001b[0m \u001b[0mprint_figure\u001b[0m\u001b[0;34m(\u001b[0m\u001b[0mfig\u001b[0m\u001b[0;34m,\u001b[0m \u001b[0;34m'svg'\u001b[0m\u001b[0;34m,\u001b[0m \u001b[0;34m**\u001b[0m\u001b[0mkwargs\u001b[0m\u001b[0;34m)\u001b[0m\u001b[0;34m)\u001b[0m\u001b[0;34m\u001b[0m\u001b[0;34m\u001b[0m\u001b[0m\n\u001b[1;32m    251\u001b[0m     \u001b[0;32mif\u001b[0m \u001b[0;34m'pdf'\u001b[0m \u001b[0;32min\u001b[0m \u001b[0mformats\u001b[0m\u001b[0;34m:\u001b[0m\u001b[0;34m\u001b[0m\u001b[0;34m\u001b[0m\u001b[0m\n\u001b[0;32m--> 252\u001b[0;31m         \u001b[0mpdf_formatter\u001b[0m\u001b[0;34m.\u001b[0m\u001b[0mfor_type\u001b[0m\u001b[0;34m(\u001b[0m\u001b[0mFigure\u001b[0m\u001b[0;34m,\u001b[0m \u001b[0;32mlambda\u001b[0m \u001b[0mfig\u001b[0m\u001b[0;34m:\u001b[0m \u001b[0mprint_figure\u001b[0m\u001b[0;34m(\u001b[0m\u001b[0mfig\u001b[0m\u001b[0;34m,\u001b[0m \u001b[0;34m'pdf'\u001b[0m\u001b[0;34m,\u001b[0m \u001b[0;34m**\u001b[0m\u001b[0mkwargs\u001b[0m\u001b[0;34m)\u001b[0m\u001b[0;34m)\u001b[0m\u001b[0;34m\u001b[0m\u001b[0;34m\u001b[0m\u001b[0m\n\u001b[0m\u001b[1;32m    253\u001b[0m \u001b[0;34m\u001b[0m\u001b[0m\n\u001b[1;32m    254\u001b[0m \u001b[0;31m#-----------------------------------------------------------------------------\u001b[0m\u001b[0;34m\u001b[0m\u001b[0;34m\u001b[0m\u001b[0;34m\u001b[0m\u001b[0m\n",
            "\u001b[0;32m/usr/local/lib/python3.7/dist-packages/IPython/core/pylabtools.py\u001b[0m in \u001b[0;36mprint_figure\u001b[0;34m(fig, fmt, bbox_inches, **kwargs)\u001b[0m\n\u001b[1;32m    126\u001b[0m \u001b[0;34m\u001b[0m\u001b[0m\n\u001b[1;32m    127\u001b[0m     \u001b[0mbytes_io\u001b[0m \u001b[0;34m=\u001b[0m \u001b[0mBytesIO\u001b[0m\u001b[0;34m(\u001b[0m\u001b[0;34m)\u001b[0m\u001b[0;34m\u001b[0m\u001b[0;34m\u001b[0m\u001b[0m\n\u001b[0;32m--> 128\u001b[0;31m     \u001b[0mfig\u001b[0m\u001b[0;34m.\u001b[0m\u001b[0mcanvas\u001b[0m\u001b[0;34m.\u001b[0m\u001b[0mprint_figure\u001b[0m\u001b[0;34m(\u001b[0m\u001b[0mbytes_io\u001b[0m\u001b[0;34m,\u001b[0m \u001b[0;34m**\u001b[0m\u001b[0mkw\u001b[0m\u001b[0;34m)\u001b[0m\u001b[0;34m\u001b[0m\u001b[0;34m\u001b[0m\u001b[0m\n\u001b[0m\u001b[1;32m    129\u001b[0m     \u001b[0mdata\u001b[0m \u001b[0;34m=\u001b[0m \u001b[0mbytes_io\u001b[0m\u001b[0;34m.\u001b[0m\u001b[0mgetvalue\u001b[0m\u001b[0;34m(\u001b[0m\u001b[0;34m)\u001b[0m\u001b[0;34m\u001b[0m\u001b[0;34m\u001b[0m\u001b[0m\n\u001b[1;32m    130\u001b[0m     \u001b[0;32mif\u001b[0m \u001b[0mfmt\u001b[0m \u001b[0;34m==\u001b[0m \u001b[0;34m'svg'\u001b[0m\u001b[0;34m:\u001b[0m\u001b[0;34m\u001b[0m\u001b[0;34m\u001b[0m\u001b[0m\n",
            "\u001b[0;32m/usr/local/lib/python3.7/dist-packages/matplotlib/backend_bases.py\u001b[0m in \u001b[0;36mprint_figure\u001b[0;34m(self, filename, dpi, facecolor, edgecolor, orientation, format, bbox_inches, **kwargs)\u001b[0m\n\u001b[1;32m   2098\u001b[0m                            else suppress())\n\u001b[1;32m   2099\u001b[0m                     \u001b[0;32mwith\u001b[0m \u001b[0mctx\u001b[0m\u001b[0;34m:\u001b[0m\u001b[0;34m\u001b[0m\u001b[0;34m\u001b[0m\u001b[0m\n\u001b[0;32m-> 2100\u001b[0;31m                         \u001b[0mself\u001b[0m\u001b[0;34m.\u001b[0m\u001b[0mfigure\u001b[0m\u001b[0;34m.\u001b[0m\u001b[0mdraw\u001b[0m\u001b[0;34m(\u001b[0m\u001b[0mrenderer\u001b[0m\u001b[0;34m)\u001b[0m\u001b[0;34m\u001b[0m\u001b[0;34m\u001b[0m\u001b[0m\n\u001b[0m\u001b[1;32m   2101\u001b[0m                     \u001b[0mbbox_artists\u001b[0m \u001b[0;34m=\u001b[0m \u001b[0mkwargs\u001b[0m\u001b[0;34m.\u001b[0m\u001b[0mpop\u001b[0m\u001b[0;34m(\u001b[0m\u001b[0;34m\"bbox_extra_artists\"\u001b[0m\u001b[0;34m,\u001b[0m \u001b[0;32mNone\u001b[0m\u001b[0;34m)\u001b[0m\u001b[0;34m\u001b[0m\u001b[0;34m\u001b[0m\u001b[0m\n\u001b[1;32m   2102\u001b[0m                     bbox_inches = self.figure.get_tightbbox(renderer,\n",
            "\u001b[0;32m/usr/local/lib/python3.7/dist-packages/matplotlib/artist.py\u001b[0m in \u001b[0;36mdraw_wrapper\u001b[0;34m(artist, renderer, *args, **kwargs)\u001b[0m\n\u001b[1;32m     36\u001b[0m                 \u001b[0mrenderer\u001b[0m\u001b[0;34m.\u001b[0m\u001b[0mstart_filter\u001b[0m\u001b[0;34m(\u001b[0m\u001b[0;34m)\u001b[0m\u001b[0;34m\u001b[0m\u001b[0;34m\u001b[0m\u001b[0m\n\u001b[1;32m     37\u001b[0m \u001b[0;34m\u001b[0m\u001b[0m\n\u001b[0;32m---> 38\u001b[0;31m             \u001b[0;32mreturn\u001b[0m \u001b[0mdraw\u001b[0m\u001b[0;34m(\u001b[0m\u001b[0martist\u001b[0m\u001b[0;34m,\u001b[0m \u001b[0mrenderer\u001b[0m\u001b[0;34m,\u001b[0m \u001b[0;34m*\u001b[0m\u001b[0margs\u001b[0m\u001b[0;34m,\u001b[0m \u001b[0;34m**\u001b[0m\u001b[0mkwargs\u001b[0m\u001b[0;34m)\u001b[0m\u001b[0;34m\u001b[0m\u001b[0;34m\u001b[0m\u001b[0m\n\u001b[0m\u001b[1;32m     39\u001b[0m         \u001b[0;32mfinally\u001b[0m\u001b[0;34m:\u001b[0m\u001b[0;34m\u001b[0m\u001b[0;34m\u001b[0m\u001b[0m\n\u001b[1;32m     40\u001b[0m             \u001b[0;32mif\u001b[0m \u001b[0martist\u001b[0m\u001b[0;34m.\u001b[0m\u001b[0mget_agg_filter\u001b[0m\u001b[0;34m(\u001b[0m\u001b[0;34m)\u001b[0m \u001b[0;32mis\u001b[0m \u001b[0;32mnot\u001b[0m \u001b[0;32mNone\u001b[0m\u001b[0;34m:\u001b[0m\u001b[0;34m\u001b[0m\u001b[0;34m\u001b[0m\u001b[0m\n",
            "\u001b[0;32m/usr/local/lib/python3.7/dist-packages/matplotlib/figure.py\u001b[0m in \u001b[0;36mdraw\u001b[0;34m(self, renderer)\u001b[0m\n\u001b[1;32m   1734\u001b[0m             \u001b[0mself\u001b[0m\u001b[0;34m.\u001b[0m\u001b[0mpatch\u001b[0m\u001b[0;34m.\u001b[0m\u001b[0mdraw\u001b[0m\u001b[0;34m(\u001b[0m\u001b[0mrenderer\u001b[0m\u001b[0;34m)\u001b[0m\u001b[0;34m\u001b[0m\u001b[0;34m\u001b[0m\u001b[0m\n\u001b[1;32m   1735\u001b[0m             mimage._draw_list_compositing_images(\n\u001b[0;32m-> 1736\u001b[0;31m                 renderer, self, artists, self.suppressComposite)\n\u001b[0m\u001b[1;32m   1737\u001b[0m \u001b[0;34m\u001b[0m\u001b[0m\n\u001b[1;32m   1738\u001b[0m             \u001b[0mrenderer\u001b[0m\u001b[0;34m.\u001b[0m\u001b[0mclose_group\u001b[0m\u001b[0;34m(\u001b[0m\u001b[0;34m'figure'\u001b[0m\u001b[0;34m)\u001b[0m\u001b[0;34m\u001b[0m\u001b[0;34m\u001b[0m\u001b[0m\n",
            "\u001b[0;32m/usr/local/lib/python3.7/dist-packages/matplotlib/image.py\u001b[0m in \u001b[0;36m_draw_list_compositing_images\u001b[0;34m(renderer, parent, artists, suppress_composite)\u001b[0m\n\u001b[1;32m    135\u001b[0m     \u001b[0;32mif\u001b[0m \u001b[0mnot_composite\u001b[0m \u001b[0;32mor\u001b[0m \u001b[0;32mnot\u001b[0m \u001b[0mhas_images\u001b[0m\u001b[0;34m:\u001b[0m\u001b[0;34m\u001b[0m\u001b[0;34m\u001b[0m\u001b[0m\n\u001b[1;32m    136\u001b[0m         \u001b[0;32mfor\u001b[0m \u001b[0ma\u001b[0m \u001b[0;32min\u001b[0m \u001b[0martists\u001b[0m\u001b[0;34m:\u001b[0m\u001b[0;34m\u001b[0m\u001b[0;34m\u001b[0m\u001b[0m\n\u001b[0;32m--> 137\u001b[0;31m             \u001b[0ma\u001b[0m\u001b[0;34m.\u001b[0m\u001b[0mdraw\u001b[0m\u001b[0;34m(\u001b[0m\u001b[0mrenderer\u001b[0m\u001b[0;34m)\u001b[0m\u001b[0;34m\u001b[0m\u001b[0;34m\u001b[0m\u001b[0m\n\u001b[0m\u001b[1;32m    138\u001b[0m     \u001b[0;32melse\u001b[0m\u001b[0;34m:\u001b[0m\u001b[0;34m\u001b[0m\u001b[0;34m\u001b[0m\u001b[0m\n\u001b[1;32m    139\u001b[0m         \u001b[0;31m# Composite any adjacent images together\u001b[0m\u001b[0;34m\u001b[0m\u001b[0;34m\u001b[0m\u001b[0;34m\u001b[0m\u001b[0m\n",
            "\u001b[0;32m/usr/local/lib/python3.7/dist-packages/matplotlib/artist.py\u001b[0m in \u001b[0;36mdraw_wrapper\u001b[0;34m(artist, renderer, *args, **kwargs)\u001b[0m\n\u001b[1;32m     36\u001b[0m                 \u001b[0mrenderer\u001b[0m\u001b[0;34m.\u001b[0m\u001b[0mstart_filter\u001b[0m\u001b[0;34m(\u001b[0m\u001b[0;34m)\u001b[0m\u001b[0;34m\u001b[0m\u001b[0;34m\u001b[0m\u001b[0m\n\u001b[1;32m     37\u001b[0m \u001b[0;34m\u001b[0m\u001b[0m\n\u001b[0;32m---> 38\u001b[0;31m             \u001b[0;32mreturn\u001b[0m \u001b[0mdraw\u001b[0m\u001b[0;34m(\u001b[0m\u001b[0martist\u001b[0m\u001b[0;34m,\u001b[0m \u001b[0mrenderer\u001b[0m\u001b[0;34m,\u001b[0m \u001b[0;34m*\u001b[0m\u001b[0margs\u001b[0m\u001b[0;34m,\u001b[0m \u001b[0;34m**\u001b[0m\u001b[0mkwargs\u001b[0m\u001b[0;34m)\u001b[0m\u001b[0;34m\u001b[0m\u001b[0;34m\u001b[0m\u001b[0m\n\u001b[0m\u001b[1;32m     39\u001b[0m         \u001b[0;32mfinally\u001b[0m\u001b[0;34m:\u001b[0m\u001b[0;34m\u001b[0m\u001b[0;34m\u001b[0m\u001b[0m\n\u001b[1;32m     40\u001b[0m             \u001b[0;32mif\u001b[0m \u001b[0martist\u001b[0m\u001b[0;34m.\u001b[0m\u001b[0mget_agg_filter\u001b[0m\u001b[0;34m(\u001b[0m\u001b[0;34m)\u001b[0m \u001b[0;32mis\u001b[0m \u001b[0;32mnot\u001b[0m \u001b[0;32mNone\u001b[0m\u001b[0;34m:\u001b[0m\u001b[0;34m\u001b[0m\u001b[0;34m\u001b[0m\u001b[0m\n",
            "\u001b[0;32m/usr/local/lib/python3.7/dist-packages/matplotlib/axes/_base.py\u001b[0m in \u001b[0;36mdraw\u001b[0;34m(self, renderer, inframe)\u001b[0m\n\u001b[1;32m   2628\u001b[0m             \u001b[0mrenderer\u001b[0m\u001b[0;34m.\u001b[0m\u001b[0mstop_rasterizing\u001b[0m\u001b[0;34m(\u001b[0m\u001b[0;34m)\u001b[0m\u001b[0;34m\u001b[0m\u001b[0;34m\u001b[0m\u001b[0m\n\u001b[1;32m   2629\u001b[0m \u001b[0;34m\u001b[0m\u001b[0m\n\u001b[0;32m-> 2630\u001b[0;31m         \u001b[0mmimage\u001b[0m\u001b[0;34m.\u001b[0m\u001b[0m_draw_list_compositing_images\u001b[0m\u001b[0;34m(\u001b[0m\u001b[0mrenderer\u001b[0m\u001b[0;34m,\u001b[0m \u001b[0mself\u001b[0m\u001b[0;34m,\u001b[0m \u001b[0martists\u001b[0m\u001b[0;34m)\u001b[0m\u001b[0;34m\u001b[0m\u001b[0;34m\u001b[0m\u001b[0m\n\u001b[0m\u001b[1;32m   2631\u001b[0m \u001b[0;34m\u001b[0m\u001b[0m\n\u001b[1;32m   2632\u001b[0m         \u001b[0mrenderer\u001b[0m\u001b[0;34m.\u001b[0m\u001b[0mclose_group\u001b[0m\u001b[0;34m(\u001b[0m\u001b[0;34m'axes'\u001b[0m\u001b[0;34m)\u001b[0m\u001b[0;34m\u001b[0m\u001b[0;34m\u001b[0m\u001b[0m\n",
            "\u001b[0;32m/usr/local/lib/python3.7/dist-packages/matplotlib/image.py\u001b[0m in \u001b[0;36m_draw_list_compositing_images\u001b[0;34m(renderer, parent, artists, suppress_composite)\u001b[0m\n\u001b[1;32m    135\u001b[0m     \u001b[0;32mif\u001b[0m \u001b[0mnot_composite\u001b[0m \u001b[0;32mor\u001b[0m \u001b[0;32mnot\u001b[0m \u001b[0mhas_images\u001b[0m\u001b[0;34m:\u001b[0m\u001b[0;34m\u001b[0m\u001b[0;34m\u001b[0m\u001b[0m\n\u001b[1;32m    136\u001b[0m         \u001b[0;32mfor\u001b[0m \u001b[0ma\u001b[0m \u001b[0;32min\u001b[0m \u001b[0martists\u001b[0m\u001b[0;34m:\u001b[0m\u001b[0;34m\u001b[0m\u001b[0;34m\u001b[0m\u001b[0m\n\u001b[0;32m--> 137\u001b[0;31m             \u001b[0ma\u001b[0m\u001b[0;34m.\u001b[0m\u001b[0mdraw\u001b[0m\u001b[0;34m(\u001b[0m\u001b[0mrenderer\u001b[0m\u001b[0;34m)\u001b[0m\u001b[0;34m\u001b[0m\u001b[0;34m\u001b[0m\u001b[0m\n\u001b[0m\u001b[1;32m    138\u001b[0m     \u001b[0;32melse\u001b[0m\u001b[0;34m:\u001b[0m\u001b[0;34m\u001b[0m\u001b[0;34m\u001b[0m\u001b[0m\n\u001b[1;32m    139\u001b[0m         \u001b[0;31m# Composite any adjacent images together\u001b[0m\u001b[0;34m\u001b[0m\u001b[0;34m\u001b[0m\u001b[0;34m\u001b[0m\u001b[0m\n",
            "\u001b[0;32m/usr/local/lib/python3.7/dist-packages/matplotlib/artist.py\u001b[0m in \u001b[0;36mdraw_wrapper\u001b[0;34m(artist, renderer, *args, **kwargs)\u001b[0m\n\u001b[1;32m     36\u001b[0m                 \u001b[0mrenderer\u001b[0m\u001b[0;34m.\u001b[0m\u001b[0mstart_filter\u001b[0m\u001b[0;34m(\u001b[0m\u001b[0;34m)\u001b[0m\u001b[0;34m\u001b[0m\u001b[0;34m\u001b[0m\u001b[0m\n\u001b[1;32m     37\u001b[0m \u001b[0;34m\u001b[0m\u001b[0m\n\u001b[0;32m---> 38\u001b[0;31m             \u001b[0;32mreturn\u001b[0m \u001b[0mdraw\u001b[0m\u001b[0;34m(\u001b[0m\u001b[0martist\u001b[0m\u001b[0;34m,\u001b[0m \u001b[0mrenderer\u001b[0m\u001b[0;34m,\u001b[0m \u001b[0;34m*\u001b[0m\u001b[0margs\u001b[0m\u001b[0;34m,\u001b[0m \u001b[0;34m**\u001b[0m\u001b[0mkwargs\u001b[0m\u001b[0;34m)\u001b[0m\u001b[0;34m\u001b[0m\u001b[0;34m\u001b[0m\u001b[0m\n\u001b[0m\u001b[1;32m     39\u001b[0m         \u001b[0;32mfinally\u001b[0m\u001b[0;34m:\u001b[0m\u001b[0;34m\u001b[0m\u001b[0;34m\u001b[0m\u001b[0m\n\u001b[1;32m     40\u001b[0m             \u001b[0;32mif\u001b[0m \u001b[0martist\u001b[0m\u001b[0;34m.\u001b[0m\u001b[0mget_agg_filter\u001b[0m\u001b[0;34m(\u001b[0m\u001b[0;34m)\u001b[0m \u001b[0;32mis\u001b[0m \u001b[0;32mnot\u001b[0m \u001b[0;32mNone\u001b[0m\u001b[0;34m:\u001b[0m\u001b[0;34m\u001b[0m\u001b[0;34m\u001b[0m\u001b[0m\n",
            "\u001b[0;32m/usr/local/lib/python3.7/dist-packages/matplotlib/axis.py\u001b[0m in \u001b[0;36mdraw\u001b[0;34m(self, renderer, *args, **kwargs)\u001b[0m\n\u001b[1;32m   1239\u001b[0m         \u001b[0mself\u001b[0m\u001b[0;34m.\u001b[0m\u001b[0m_update_label_position\u001b[0m\u001b[0;34m(\u001b[0m\u001b[0mrenderer\u001b[0m\u001b[0;34m)\u001b[0m\u001b[0;34m\u001b[0m\u001b[0;34m\u001b[0m\u001b[0m\n\u001b[1;32m   1240\u001b[0m \u001b[0;34m\u001b[0m\u001b[0m\n\u001b[0;32m-> 1241\u001b[0;31m         \u001b[0mself\u001b[0m\u001b[0;34m.\u001b[0m\u001b[0mlabel\u001b[0m\u001b[0;34m.\u001b[0m\u001b[0mdraw\u001b[0m\u001b[0;34m(\u001b[0m\u001b[0mrenderer\u001b[0m\u001b[0;34m)\u001b[0m\u001b[0;34m\u001b[0m\u001b[0;34m\u001b[0m\u001b[0m\n\u001b[0m\u001b[1;32m   1242\u001b[0m \u001b[0;34m\u001b[0m\u001b[0m\n\u001b[1;32m   1243\u001b[0m         \u001b[0mself\u001b[0m\u001b[0;34m.\u001b[0m\u001b[0m_update_offset_text_position\u001b[0m\u001b[0;34m(\u001b[0m\u001b[0mticklabelBoxes\u001b[0m\u001b[0;34m,\u001b[0m \u001b[0mticklabelBoxes2\u001b[0m\u001b[0;34m)\u001b[0m\u001b[0;34m\u001b[0m\u001b[0;34m\u001b[0m\u001b[0m\n",
            "\u001b[0;32m/usr/local/lib/python3.7/dist-packages/matplotlib/artist.py\u001b[0m in \u001b[0;36mdraw_wrapper\u001b[0;34m(artist, renderer, *args, **kwargs)\u001b[0m\n\u001b[1;32m     36\u001b[0m                 \u001b[0mrenderer\u001b[0m\u001b[0;34m.\u001b[0m\u001b[0mstart_filter\u001b[0m\u001b[0;34m(\u001b[0m\u001b[0;34m)\u001b[0m\u001b[0;34m\u001b[0m\u001b[0;34m\u001b[0m\u001b[0m\n\u001b[1;32m     37\u001b[0m \u001b[0;34m\u001b[0m\u001b[0m\n\u001b[0;32m---> 38\u001b[0;31m             \u001b[0;32mreturn\u001b[0m \u001b[0mdraw\u001b[0m\u001b[0;34m(\u001b[0m\u001b[0martist\u001b[0m\u001b[0;34m,\u001b[0m \u001b[0mrenderer\u001b[0m\u001b[0;34m,\u001b[0m \u001b[0;34m*\u001b[0m\u001b[0margs\u001b[0m\u001b[0;34m,\u001b[0m \u001b[0;34m**\u001b[0m\u001b[0mkwargs\u001b[0m\u001b[0;34m)\u001b[0m\u001b[0;34m\u001b[0m\u001b[0;34m\u001b[0m\u001b[0m\n\u001b[0m\u001b[1;32m     39\u001b[0m         \u001b[0;32mfinally\u001b[0m\u001b[0;34m:\u001b[0m\u001b[0;34m\u001b[0m\u001b[0;34m\u001b[0m\u001b[0m\n\u001b[1;32m     40\u001b[0m             \u001b[0;32mif\u001b[0m \u001b[0martist\u001b[0m\u001b[0;34m.\u001b[0m\u001b[0mget_agg_filter\u001b[0m\u001b[0;34m(\u001b[0m\u001b[0;34m)\u001b[0m \u001b[0;32mis\u001b[0m \u001b[0;32mnot\u001b[0m \u001b[0;32mNone\u001b[0m\u001b[0;34m:\u001b[0m\u001b[0;34m\u001b[0m\u001b[0;34m\u001b[0m\u001b[0m\n",
            "\u001b[0;32m/usr/local/lib/python3.7/dist-packages/matplotlib/text.py\u001b[0m in \u001b[0;36mdraw\u001b[0;34m(self, renderer)\u001b[0m\n\u001b[1;32m    683\u001b[0m \u001b[0;34m\u001b[0m\u001b[0m\n\u001b[1;32m    684\u001b[0m         \u001b[0;32mwith\u001b[0m \u001b[0m_wrap_text\u001b[0m\u001b[0;34m(\u001b[0m\u001b[0mself\u001b[0m\u001b[0;34m)\u001b[0m \u001b[0;32mas\u001b[0m \u001b[0mtextobj\u001b[0m\u001b[0;34m:\u001b[0m\u001b[0;34m\u001b[0m\u001b[0;34m\u001b[0m\u001b[0m\n\u001b[0;32m--> 685\u001b[0;31m             \u001b[0mbbox\u001b[0m\u001b[0;34m,\u001b[0m \u001b[0minfo\u001b[0m\u001b[0;34m,\u001b[0m \u001b[0mdescent\u001b[0m \u001b[0;34m=\u001b[0m \u001b[0mtextobj\u001b[0m\u001b[0;34m.\u001b[0m\u001b[0m_get_layout\u001b[0m\u001b[0;34m(\u001b[0m\u001b[0mrenderer\u001b[0m\u001b[0;34m)\u001b[0m\u001b[0;34m\u001b[0m\u001b[0;34m\u001b[0m\u001b[0m\n\u001b[0m\u001b[1;32m    686\u001b[0m             \u001b[0mtrans\u001b[0m \u001b[0;34m=\u001b[0m \u001b[0mtextobj\u001b[0m\u001b[0;34m.\u001b[0m\u001b[0mget_transform\u001b[0m\u001b[0;34m(\u001b[0m\u001b[0;34m)\u001b[0m\u001b[0;34m\u001b[0m\u001b[0;34m\u001b[0m\u001b[0m\n\u001b[1;32m    687\u001b[0m \u001b[0;34m\u001b[0m\u001b[0m\n",
            "\u001b[0;32m/usr/local/lib/python3.7/dist-packages/matplotlib/text.py\u001b[0m in \u001b[0;36m_get_layout\u001b[0;34m(self, renderer)\u001b[0m\n\u001b[1;32m    291\u001b[0m         _, lp_h, lp_d = renderer.get_text_width_height_descent(\n\u001b[1;32m    292\u001b[0m             \u001b[0;34m\"lp\"\u001b[0m\u001b[0;34m,\u001b[0m \u001b[0mself\u001b[0m\u001b[0;34m.\u001b[0m\u001b[0m_fontproperties\u001b[0m\u001b[0;34m,\u001b[0m\u001b[0;34m\u001b[0m\u001b[0;34m\u001b[0m\u001b[0m\n\u001b[0;32m--> 293\u001b[0;31m             ismath=\"TeX\" if self.get_usetex() else False)\n\u001b[0m\u001b[1;32m    294\u001b[0m         \u001b[0mmin_dy\u001b[0m \u001b[0;34m=\u001b[0m \u001b[0;34m(\u001b[0m\u001b[0mlp_h\u001b[0m \u001b[0;34m-\u001b[0m \u001b[0mlp_d\u001b[0m\u001b[0;34m)\u001b[0m \u001b[0;34m*\u001b[0m \u001b[0mself\u001b[0m\u001b[0;34m.\u001b[0m\u001b[0m_linespacing\u001b[0m\u001b[0;34m\u001b[0m\u001b[0;34m\u001b[0m\u001b[0m\n\u001b[1;32m    295\u001b[0m \u001b[0;34m\u001b[0m\u001b[0m\n",
            "\u001b[0;32m/usr/local/lib/python3.7/dist-packages/matplotlib/backends/_backend_pdf_ps.py\u001b[0m in \u001b[0;36mget_text_width_height_descent\u001b[0;34m(self, s, prop, ismath)\u001b[0m\n\u001b[1;32m     59\u001b[0m             \u001b[0;32mreturn\u001b[0m \u001b[0mw\u001b[0m\u001b[0;34m,\u001b[0m \u001b[0mh\u001b[0m\u001b[0;34m,\u001b[0m \u001b[0md\u001b[0m\u001b[0;34m\u001b[0m\u001b[0;34m\u001b[0m\u001b[0m\n\u001b[1;32m     60\u001b[0m         \u001b[0;32melse\u001b[0m\u001b[0;34m:\u001b[0m\u001b[0;34m\u001b[0m\u001b[0;34m\u001b[0m\u001b[0m\n\u001b[0;32m---> 61\u001b[0;31m             \u001b[0mfont\u001b[0m \u001b[0;34m=\u001b[0m \u001b[0mself\u001b[0m\u001b[0;34m.\u001b[0m\u001b[0m_get_font_ttf\u001b[0m\u001b[0;34m(\u001b[0m\u001b[0mprop\u001b[0m\u001b[0;34m)\u001b[0m\u001b[0;34m\u001b[0m\u001b[0;34m\u001b[0m\u001b[0m\n\u001b[0m\u001b[1;32m     62\u001b[0m             \u001b[0mfont\u001b[0m\u001b[0;34m.\u001b[0m\u001b[0mset_text\u001b[0m\u001b[0;34m(\u001b[0m\u001b[0ms\u001b[0m\u001b[0;34m,\u001b[0m \u001b[0;36m0.0\u001b[0m\u001b[0;34m,\u001b[0m \u001b[0mflags\u001b[0m\u001b[0;34m=\u001b[0m\u001b[0mft2font\u001b[0m\u001b[0;34m.\u001b[0m\u001b[0mLOAD_NO_HINTING\u001b[0m\u001b[0;34m)\u001b[0m\u001b[0;34m\u001b[0m\u001b[0;34m\u001b[0m\u001b[0m\n\u001b[1;32m     63\u001b[0m             \u001b[0mw\u001b[0m\u001b[0;34m,\u001b[0m \u001b[0mh\u001b[0m \u001b[0;34m=\u001b[0m \u001b[0mfont\u001b[0m\u001b[0;34m.\u001b[0m\u001b[0mget_width_height\u001b[0m\u001b[0;34m(\u001b[0m\u001b[0;34m)\u001b[0m\u001b[0;34m\u001b[0m\u001b[0;34m\u001b[0m\u001b[0m\n",
            "\u001b[0;32m/usr/local/lib/python3.7/dist-packages/matplotlib/backends/_backend_pdf_ps.py\u001b[0m in \u001b[0;36m_get_font_ttf\u001b[0;34m(self, prop)\u001b[0m\n\u001b[1;32m     78\u001b[0m \u001b[0;34m\u001b[0m\u001b[0m\n\u001b[1;32m     79\u001b[0m     \u001b[0;32mdef\u001b[0m \u001b[0m_get_font_ttf\u001b[0m\u001b[0;34m(\u001b[0m\u001b[0mself\u001b[0m\u001b[0;34m,\u001b[0m \u001b[0mprop\u001b[0m\u001b[0;34m)\u001b[0m\u001b[0;34m:\u001b[0m\u001b[0;34m\u001b[0m\u001b[0;34m\u001b[0m\u001b[0m\n\u001b[0;32m---> 80\u001b[0;31m         \u001b[0mfname\u001b[0m \u001b[0;34m=\u001b[0m \u001b[0mfont_manager\u001b[0m\u001b[0;34m.\u001b[0m\u001b[0mfindfont\u001b[0m\u001b[0;34m(\u001b[0m\u001b[0mprop\u001b[0m\u001b[0;34m)\u001b[0m\u001b[0;34m\u001b[0m\u001b[0;34m\u001b[0m\u001b[0m\n\u001b[0m\u001b[1;32m     81\u001b[0m         \u001b[0mfont\u001b[0m \u001b[0;34m=\u001b[0m \u001b[0mfont_manager\u001b[0m\u001b[0;34m.\u001b[0m\u001b[0mget_font\u001b[0m\u001b[0;34m(\u001b[0m\u001b[0mfname\u001b[0m\u001b[0;34m)\u001b[0m\u001b[0;34m\u001b[0m\u001b[0;34m\u001b[0m\u001b[0m\n\u001b[1;32m     82\u001b[0m         \u001b[0mfont\u001b[0m\u001b[0;34m.\u001b[0m\u001b[0mclear\u001b[0m\u001b[0;34m(\u001b[0m\u001b[0;34m)\u001b[0m\u001b[0;34m\u001b[0m\u001b[0;34m\u001b[0m\u001b[0m\n",
            "\u001b[0;32m/usr/local/lib/python3.7/dist-packages/matplotlib/font_manager.py\u001b[0m in \u001b[0;36mfindfont\u001b[0;34m(self, prop, fontext, directory, fallback_to_default, rebuild_if_missing)\u001b[0m\n\u001b[1;32m   1223\u001b[0m         return self._findfont_cached(\n\u001b[1;32m   1224\u001b[0m             \u001b[0mprop\u001b[0m\u001b[0;34m,\u001b[0m \u001b[0mfontext\u001b[0m\u001b[0;34m,\u001b[0m \u001b[0mdirectory\u001b[0m\u001b[0;34m,\u001b[0m \u001b[0mfallback_to_default\u001b[0m\u001b[0;34m,\u001b[0m \u001b[0mrebuild_if_missing\u001b[0m\u001b[0;34m,\u001b[0m\u001b[0;34m\u001b[0m\u001b[0;34m\u001b[0m\u001b[0m\n\u001b[0;32m-> 1225\u001b[0;31m             rc_params)\n\u001b[0m\u001b[1;32m   1226\u001b[0m \u001b[0;34m\u001b[0m\u001b[0m\n\u001b[1;32m   1227\u001b[0m     \u001b[0;34m@\u001b[0m\u001b[0mlru_cache\u001b[0m\u001b[0;34m(\u001b[0m\u001b[0;34m)\u001b[0m\u001b[0;34m\u001b[0m\u001b[0;34m\u001b[0m\u001b[0m\n",
            "\u001b[0;32m/usr/local/lib/python3.7/dist-packages/matplotlib/font_manager.py\u001b[0m in \u001b[0;36m__eq__\u001b[0;34m(self, other)\u001b[0m\n\u001b[1;32m    672\u001b[0m \u001b[0;34m\u001b[0m\u001b[0m\n\u001b[1;32m    673\u001b[0m     \u001b[0;32mdef\u001b[0m \u001b[0m__eq__\u001b[0m\u001b[0;34m(\u001b[0m\u001b[0mself\u001b[0m\u001b[0;34m,\u001b[0m \u001b[0mother\u001b[0m\u001b[0;34m)\u001b[0m\u001b[0;34m:\u001b[0m\u001b[0;34m\u001b[0m\u001b[0;34m\u001b[0m\u001b[0m\n\u001b[0;32m--> 674\u001b[0;31m         \u001b[0;32mreturn\u001b[0m \u001b[0mhash\u001b[0m\u001b[0;34m(\u001b[0m\u001b[0mself\u001b[0m\u001b[0;34m)\u001b[0m \u001b[0;34m==\u001b[0m \u001b[0mhash\u001b[0m\u001b[0;34m(\u001b[0m\u001b[0mother\u001b[0m\u001b[0;34m)\u001b[0m\u001b[0;34m\u001b[0m\u001b[0;34m\u001b[0m\u001b[0m\n\u001b[0m\u001b[1;32m    675\u001b[0m \u001b[0;34m\u001b[0m\u001b[0m\n\u001b[1;32m    676\u001b[0m     \u001b[0;32mdef\u001b[0m \u001b[0m__str__\u001b[0m\u001b[0;34m(\u001b[0m\u001b[0mself\u001b[0m\u001b[0;34m)\u001b[0m\u001b[0;34m:\u001b[0m\u001b[0;34m\u001b[0m\u001b[0;34m\u001b[0m\u001b[0m\n",
            "\u001b[0;32m/usr/local/lib/python3.7/dist-packages/matplotlib/font_manager.py\u001b[0m in \u001b[0;36m__hash__\u001b[0;34m(self)\u001b[0m\n\u001b[1;32m    668\u001b[0m              \u001b[0mself\u001b[0m\u001b[0;34m.\u001b[0m\u001b[0mget_stretch\u001b[0m\u001b[0;34m(\u001b[0m\u001b[0;34m)\u001b[0m\u001b[0;34m,\u001b[0m\u001b[0;34m\u001b[0m\u001b[0;34m\u001b[0m\u001b[0m\n\u001b[1;32m    669\u001b[0m              \u001b[0mself\u001b[0m\u001b[0;34m.\u001b[0m\u001b[0mget_size_in_points\u001b[0m\u001b[0;34m(\u001b[0m\u001b[0;34m)\u001b[0m\u001b[0;34m,\u001b[0m\u001b[0;34m\u001b[0m\u001b[0;34m\u001b[0m\u001b[0m\n\u001b[0;32m--> 670\u001b[0;31m              self.get_file())\n\u001b[0m\u001b[1;32m    671\u001b[0m         \u001b[0;32mreturn\u001b[0m \u001b[0mhash\u001b[0m\u001b[0;34m(\u001b[0m\u001b[0ml\u001b[0m\u001b[0;34m)\u001b[0m\u001b[0;34m\u001b[0m\u001b[0;34m\u001b[0m\u001b[0m\n\u001b[1;32m    672\u001b[0m \u001b[0;34m\u001b[0m\u001b[0m\n",
            "\u001b[0;32m/usr/local/lib/python3.7/dist-packages/matplotlib/font_manager.py\u001b[0m in \u001b[0;36mget_file\u001b[0;34m(self)\u001b[0m\n\u001b[1;32m    728\u001b[0m         \u001b[0;32mreturn\u001b[0m \u001b[0mself\u001b[0m\u001b[0;34m.\u001b[0m\u001b[0m_size\u001b[0m\u001b[0;34m\u001b[0m\u001b[0;34m\u001b[0m\u001b[0m\n\u001b[1;32m    729\u001b[0m \u001b[0;34m\u001b[0m\u001b[0m\n\u001b[0;32m--> 730\u001b[0;31m     \u001b[0;32mdef\u001b[0m \u001b[0mget_file\u001b[0m\u001b[0;34m(\u001b[0m\u001b[0mself\u001b[0m\u001b[0;34m)\u001b[0m\u001b[0;34m:\u001b[0m\u001b[0;34m\u001b[0m\u001b[0;34m\u001b[0m\u001b[0m\n\u001b[0m\u001b[1;32m    731\u001b[0m         \"\"\"\n\u001b[1;32m    732\u001b[0m         \u001b[0mReturn\u001b[0m \u001b[0mthe\u001b[0m \u001b[0mfilename\u001b[0m \u001b[0mof\u001b[0m \u001b[0mthe\u001b[0m \u001b[0massociated\u001b[0m \u001b[0mfont\u001b[0m\u001b[0;34m.\u001b[0m\u001b[0;34m\u001b[0m\u001b[0;34m\u001b[0m\u001b[0m\n",
            "\u001b[0;31mKeyboardInterrupt\u001b[0m: "
          ]
        }
      ],
      "source": [
        "import numpy as np\n",
        "import matplotlib.pyplot as plt\n",
        "\n",
        "(df_issues[\"text\"].str.split().apply(len)\n",
        " .hist(bins=np.linspace(0, 500, 50), grid=False, edgecolor=\"C0\"))\n",
        "plt.title(\"Words per issue\")\n",
        "plt.xlabel(\"Number of words\")\n",
        "plt.ylabel(\"Number of issues\")\n",
        "plt.show()"
      ]
    },
    {
      "cell_type": "markdown",
      "metadata": {
        "id": "rXL0b1UnFtdK"
      },
      "source": [
        "### 훈련 세트 만들기"
      ]
    },
    {
      "cell_type": "code",
      "execution_count": null,
      "metadata": {
        "id": "Bw9IlOOaFtdK"
      },
      "outputs": [],
      "source": [
        "from sklearn.preprocessing import MultiLabelBinarizer\n",
        "\n",
        "mlb = MultiLabelBinarizer()\n",
        "mlb.fit([all_labels])\n",
        "mlb.transform([[\"tokenization\", \"new model\"], [\"pytorch\"]])"
      ]
    },
    {
      "cell_type": "code",
      "execution_count": null,
      "metadata": {
        "id": "ItAz-KfOFtdK"
      },
      "outputs": [],
      "source": [
        "from skmultilearn.model_selection import iterative_train_test_split\n",
        "\n",
        "def balanced_split(df, test_size=0.5):\n",
        "    ind = np.expand_dims(np.arange(len(df)), axis=1)\n",
        "    labels = mlb.transform(df[\"labels\"])\n",
        "    ind_train, _, ind_test, _ = iterative_train_test_split(ind, labels, \n",
        "                                                           test_size)\n",
        "    return df.iloc[ind_train[:, 0]], df.iloc[ind_test[:,0]]"
      ]
    },
    {
      "cell_type": "code",
      "execution_count": null,
      "metadata": {
        "id": "iGxGr_kqFtdK"
      },
      "outputs": [],
      "source": [
        "from sklearn.model_selection import train_test_split\n",
        "\n",
        "df_clean = df_issues[[\"text\", \"labels\", \"split\"]].reset_index(drop=True).copy()\n",
        "df_unsup = df_clean.loc[df_clean[\"split\"] == \"unlabeled\", [\"text\", \"labels\"]]\n",
        "df_sup = df_clean.loc[df_clean[\"split\"] == \"labeled\", [\"text\", \"labels\"]]\n",
        "\n",
        "np.random.seed(0)\n",
        "df_train, df_tmp = balanced_split(df_sup, test_size=0.5)\n",
        "df_valid, df_test = balanced_split(df_tmp, test_size=0.5)"
      ]
    },
    {
      "cell_type": "code",
      "execution_count": null,
      "metadata": {
        "id": "5rgkv_CYFtdK"
      },
      "outputs": [],
      "source": [
        "from datasets import Dataset, DatasetDict\n",
        "\n",
        "ds = DatasetDict({\n",
        "    \"train\": Dataset.from_pandas(df_train.reset_index(drop=True)),\n",
        "    \"valid\": Dataset.from_pandas(df_valid.reset_index(drop=True)),\n",
        "    \"test\": Dataset.from_pandas(df_test.reset_index(drop=True)),\n",
        "    \"unsup\": Dataset.from_pandas(df_unsup.reset_index(drop=True))})"
      ]
    },
    {
      "cell_type": "markdown",
      "metadata": {
        "id": "em6xuFh3FtdK"
      },
      "source": [
        "### 훈련 슬라이스 만들기"
      ]
    },
    {
      "cell_type": "code",
      "execution_count": null,
      "metadata": {
        "id": "UKS8u8zfFtdL"
      },
      "outputs": [],
      "source": [
        "np.random.seed(0)\n",
        "all_indices = np.expand_dims(list(range(len(ds[\"train\"]))), axis=1)\n",
        "indices_pool = all_indices\n",
        "labels = mlb.transform(ds[\"train\"][\"labels\"])\n",
        "train_samples = [8, 16, 32, 64, 128]\n",
        "train_slices, last_k = [], 0\n",
        "\n",
        "for i, k in enumerate(train_samples):\n",
        "    # 다음 슬라이스 크기를 채우는데 필요한 샘플을 분할합니다\n",
        "    indices_pool, labels, new_slice, _ = iterative_train_test_split(\n",
        "        indices_pool, labels, (k-last_k)/len(labels))\n",
        "    last_k = k\n",
        "    if i==0: train_slices.append(new_slice)\n",
        "    else: train_slices.append(np.concatenate((train_slices[-1], new_slice)))\n",
        "\n",
        "# 코랩의 경우 메모리 부족을 피하기 위해 마지막 슬라이스를 추가하지 않습니다.\n",
        "# 전체 데이터셋을 마지막 슬라이스로 추가합니다\n",
        "# train_slices.append(all_indices), train_samples.append(len(ds[\"train\"]))\n",
        "\n",
        "train_slices = [np.squeeze(train_slice) for train_slice in train_slices]"
      ]
    },
    {
      "cell_type": "code",
      "execution_count": null,
      "metadata": {
        "id": "OLuZB6TBFtdL"
      },
      "outputs": [],
      "source": [
        "print(\"목표 분할 크기:\")\n",
        "print(train_samples)\n",
        "print(\"실제 분할 크기:\")\n",
        "print([len(x) for x in train_slices])"
      ]
    },
    {
      "cell_type": "markdown",
      "metadata": {
        "id": "lvI7GMuwFtdL"
      },
      "source": [
        "## 나이브 베이즈 모델 만들기"
      ]
    },
    {
      "cell_type": "code",
      "execution_count": null,
      "metadata": {
        "id": "EVGaZNaVFtdL"
      },
      "outputs": [],
      "source": [
        "def prepare_labels(batch):\n",
        "    batch[\"label_ids\"] = mlb.transform(batch[\"labels\"])\n",
        "    return batch\n",
        "\n",
        "ds = ds.map(prepare_labels, batched=True)"
      ]
    },
    {
      "cell_type": "code",
      "execution_count": null,
      "metadata": {
        "id": "aaFz2eLxFtdL"
      },
      "outputs": [],
      "source": [
        "from collections import defaultdict\n",
        "\n",
        "macro_scores, micro_scores = defaultdict(list), defaultdict(list)"
      ]
    },
    {
      "cell_type": "code",
      "execution_count": null,
      "metadata": {
        "id": "o3uqZdmzFtdL"
      },
      "outputs": [],
      "source": [
        "from sklearn.naive_bayes import MultinomialNB\n",
        "from sklearn.metrics import classification_report\n",
        "from skmultilearn.problem_transform import BinaryRelevance\n",
        "from sklearn.feature_extraction.text import CountVectorizer\n",
        "\n",
        "for train_slice in train_slices:\n",
        "    # 훈련 슬라이스와 테스트 데이터를 준비합니다\n",
        "    ds_train_sample = ds[\"train\"].select(train_slice)\n",
        "    y_train = np.array(ds_train_sample[\"label_ids\"])\n",
        "    y_test = np.array(ds[\"test\"][\"label_ids\"])\n",
        "    # 간단한 CountVectorizer를 사용해 텍스트를 토큰 카운트로 인코딩합니다\n",
        "    count_vect = CountVectorizer()\n",
        "    X_train_counts = count_vect.fit_transform(ds_train_sample[\"text\"])\n",
        "    X_test_counts = count_vect.transform(ds[\"test\"][\"text\"])\n",
        "    # 모델을 만들고 훈련합니다!\n",
        "    classifier = BinaryRelevance(classifier=MultinomialNB())\n",
        "    classifier.fit(X_train_counts, y_train)\n",
        "    # 예측을 생성하고 평가합니다\n",
        "    y_pred_test = classifier.predict(X_test_counts)\n",
        "    clf_report = classification_report(\n",
        "        y_test, y_pred_test, target_names=mlb.classes_, zero_division=0,\n",
        "        output_dict=True)\n",
        "    # 평가 결과를 저장합니다\n",
        "    macro_scores[\"Naive Bayes\"].append(clf_report[\"macro avg\"][\"f1-score\"])\n",
        "    micro_scores[\"Naive Bayes\"].append(clf_report[\"micro avg\"][\"f1-score\"])"
      ]
    },
    {
      "cell_type": "code",
      "execution_count": null,
      "metadata": {
        "id": "HfA-hs7uFtdL"
      },
      "outputs": [],
      "source": [
        "import matplotlib.pyplot as plt\n",
        "\n",
        "def plot_metrics(micro_scores, macro_scores, sample_sizes, current_model):\n",
        "    fig, (ax0, ax1) = plt.subplots(1, 2, figsize=(10, 4), sharey=True)\n",
        "\n",
        "    for run in micro_scores.keys():\n",
        "        if run == current_model:\n",
        "            ax0.plot(sample_sizes, micro_scores[run], label=run, linewidth=2)\n",
        "            ax1.plot(sample_sizes, macro_scores[run], label=run, linewidth=2)\n",
        "        else:\n",
        "            ax0.plot(sample_sizes, micro_scores[run], label=run, \n",
        "                     linestyle=\"dashed\")\n",
        "            ax1.plot(sample_sizes, macro_scores[run], label=run, \n",
        "                     linestyle=\"dashed\")\n",
        "\n",
        "    ax0.set_title(\"Micro F1 scores\")\n",
        "    ax1.set_title(\"Macro F1 scores\")\n",
        "    ax0.set_ylabel(\"Test set F1 score\")\n",
        "    ax0.legend(loc=\"lower right\")\n",
        "    for ax in [ax0, ax1]:\n",
        "        ax.set_xlabel(\"Number of training samples\")\n",
        "        ax.set_xscale(\"log\")\n",
        "        ax.set_xticks(sample_sizes)\n",
        "        ax.set_xticklabels(sample_sizes)\n",
        "        ax.minorticks_off()\n",
        "    plt.tight_layout()\n",
        "    plt.show()"
      ]
    },
    {
      "cell_type": "code",
      "execution_count": null,
      "metadata": {
        "id": "CTYgYIvrFtdM"
      },
      "outputs": [],
      "source": [
        "plot_metrics(micro_scores, macro_scores, train_samples, \"Naive Bayes\")"
      ]
    },
    {
      "cell_type": "markdown",
      "metadata": {
        "id": "sekCoHk7FtdM"
      },
      "source": [
        "## 레이블이 없는 데이터 다루기"
      ]
    },
    {
      "cell_type": "code",
      "execution_count": null,
      "metadata": {
        "id": "j7ntSDiYFtdM"
      },
      "outputs": [],
      "source": [
        "from transformers import pipeline\n",
        "\n",
        "pipe = pipeline(\"fill-mask\", model=\"bert-base-uncased\")"
      ]
    },
    {
      "cell_type": "code",
      "execution_count": null,
      "metadata": {
        "id": "6ben9N-WFtdM"
      },
      "outputs": [],
      "source": [
        "movie_desc = \"The main characters of the movie madacascar \\\n",
        "are a lion, a zebra, a giraffe, and a hippo. \"\n",
        "prompt = \"The movie is about [MASK].\"\n",
        "\n",
        "output = pipe(movie_desc + prompt)\n",
        "for element in output:\n",
        "    print(f\"토큰 {element['token_str']}:\\t{element['score']:.3f}%\")"
      ]
    },
    {
      "cell_type": "code",
      "execution_count": null,
      "metadata": {
        "id": "Dh6QEan0FtdM"
      },
      "outputs": [],
      "source": [
        "output = pipe(movie_desc + prompt, targets=[\"animals\", \"cars\"])\n",
        "for element in output:\n",
        "    print(f\"토큰 {element['token_str']}:\\t{element['score']:.3f}%\")"
      ]
    },
    {
      "cell_type": "code",
      "execution_count": null,
      "metadata": {
        "id": "g66xBKkvFtdM"
      },
      "outputs": [],
      "source": [
        "movie_desc = \"In the movie transformers aliens \\\n",
        "can morph into a wide range of vehicles.\"\n",
        "\n",
        "output = pipe(movie_desc + prompt, targets=[\"animals\", \"cars\"])\n",
        "for element in output:\n",
        "    print(f\"토큰 {element['token_str']}:\\t{element['score']:.3f}%\")"
      ]
    },
    {
      "cell_type": "code",
      "execution_count": null,
      "metadata": {
        "id": "ifQQrrjmFtdM"
      },
      "outputs": [],
      "source": [
        "from transformers import pipeline\n",
        "\n",
        "# CPU에서 실행하려면 device=0을 삭제하세요.\n",
        "pipe = pipeline(\"zero-shot-classification\", device=0)"
      ]
    },
    {
      "cell_type": "code",
      "execution_count": null,
      "metadata": {
        "id": "_3HhIItbFtdN"
      },
      "outputs": [],
      "source": [
        "sample = ds[\"train\"][0]\n",
        "print(f\"레이블: {sample['labels']}\")\n",
        "output = pipe(sample[\"text\"], all_labels, multi_label=True)\n",
        "print(output[\"sequence\"][:400])\n",
        "print(\"\\n예측:\")\n",
        "\n",
        "for label, score in zip(output[\"labels\"], output[\"scores\"]):\n",
        "    print(f\"{label}, {score:.2f}\")"
      ]
    },
    {
      "cell_type": "code",
      "execution_count": null,
      "metadata": {
        "id": "Z5sizBvtFtdN"
      },
      "outputs": [],
      "source": [
        "def zero_shot_pipeline(example):\n",
        "    output = pipe(example[\"text\"], all_labels, multi_label=True)\n",
        "    example[\"predicted_labels\"] = output[\"labels\"]\n",
        "    example[\"scores\"] = output[\"scores\"]\n",
        "    return example\n",
        "\n",
        "ds_zero_shot = ds[\"valid\"].map(zero_shot_pipeline)"
      ]
    },
    {
      "cell_type": "code",
      "execution_count": null,
      "metadata": {
        "id": "CUS9DXDgFtdN"
      },
      "outputs": [],
      "source": [
        "def get_preds(example, threshold=None, topk=None):\n",
        "    preds = []\n",
        "    if threshold:\n",
        "        for label, score in zip(example[\"predicted_labels\"], example[\"scores\"]):\n",
        "            if score >= threshold:\n",
        "                preds.append(label)\n",
        "    elif topk:\n",
        "        for i in range(topk):\n",
        "            preds.append(example[\"predicted_labels\"][i])\n",
        "    else:\n",
        "        raise ValueError(\"`threshold` 또는 `topk`로 지정해야 합니다.\")\n",
        "    return {\"pred_label_ids\": list(np.squeeze(mlb.transform([preds])))}"
      ]
    },
    {
      "cell_type": "code",
      "execution_count": null,
      "metadata": {
        "id": "1u8iM6kwFtdN"
      },
      "outputs": [],
      "source": [
        "def get_clf_report(ds):\n",
        "    y_true = np.array(ds[\"label_ids\"])\n",
        "    y_pred = np.array(ds[\"pred_label_ids\"])\n",
        "    return classification_report(\n",
        "        y_true, y_pred, target_names=mlb.classes_, zero_division=0, \n",
        "        output_dict=True)"
      ]
    },
    {
      "cell_type": "code",
      "execution_count": null,
      "metadata": {
        "id": "pjw8EwjPFtdN"
      },
      "outputs": [],
      "source": [
        "macros, micros = [], []\n",
        "topks = [1, 2, 3, 4]\n",
        "for topk in topks:\n",
        "    ds_zero_shot = ds_zero_shot.map(get_preds, batched=False,\n",
        "                                    fn_kwargs={'topk': topk})\n",
        "    clf_report = get_clf_report(ds_zero_shot)\n",
        "    micros.append(clf_report['micro avg']['f1-score'])\n",
        "    macros.append(clf_report['macro avg']['f1-score'])"
      ]
    },
    {
      "cell_type": "code",
      "execution_count": null,
      "metadata": {
        "id": "tUUIGdjGFtdN"
      },
      "outputs": [],
      "source": [
        "plt.plot(topks, micros, label='Micro F1')\n",
        "plt.plot(topks, macros, label='Macro F1')\n",
        "plt.xlabel(\"Top-k\")\n",
        "plt.ylabel(\"F1-score\")\n",
        "plt.legend(loc='best')\n",
        "plt.show()"
      ]
    },
    {
      "cell_type": "code",
      "execution_count": null,
      "metadata": {
        "id": "0yO-8ETBFtdN"
      },
      "outputs": [],
      "source": [
        "macros, micros = [], []\n",
        "thresholds = np.linspace(0.01, 1, 100)\n",
        "for threshold in thresholds:\n",
        "    ds_zero_shot = ds_zero_shot.map(get_preds,\n",
        "                                    fn_kwargs={\"threshold\": threshold})\n",
        "    clf_report = get_clf_report(ds_zero_shot)\n",
        "    micros.append(clf_report[\"micro avg\"][\"f1-score\"])\n",
        "    macros.append(clf_report[\"macro avg\"][\"f1-score\"])"
      ]
    },
    {
      "cell_type": "code",
      "execution_count": null,
      "metadata": {
        "id": "gxeTs2D7FtdO"
      },
      "outputs": [],
      "source": [
        "plt.plot(thresholds, micros, label=\"Micro F1\")\n",
        "plt.plot(thresholds, macros, label=\"Macro F1\")\n",
        "plt.xlabel(\"Threshold\")\n",
        "plt.ylabel(\"F1-score\")\n",
        "plt.legend(loc=\"best\")\n",
        "plt.show()"
      ]
    },
    {
      "cell_type": "code",
      "execution_count": null,
      "metadata": {
        "id": "IJWqrIP4FtdO"
      },
      "outputs": [],
      "source": [
        "best_t, best_micro = thresholds[np.argmax(micros)], np.max(micros)\n",
        "print(f'최상의 임곗값 (마이크로): {best_t}, F1-점수 {best_micro:.2f}.')\n",
        "best_t, best_macro = thresholds[np.argmax(macros)], np.max(macros)\n",
        "print(f'최상의 임곗값 (마크로): {best_t}, F1-점수 {best_macro:.2f}.')"
      ]
    },
    {
      "cell_type": "code",
      "execution_count": null,
      "metadata": {
        "id": "moEhaooQFtdO"
      },
      "outputs": [],
      "source": [
        "ds_zero_shot = ds['test'].map(zero_shot_pipeline)\n",
        "ds_zero_shot = ds_zero_shot.map(get_preds, fn_kwargs={'topk': 1})\n",
        "clf_report = get_clf_report(ds_zero_shot)\n",
        "for train_slice in train_slices:\n",
        "    macro_scores['Zero Shot'].append(clf_report['macro avg']['f1-score'])\n",
        "    micro_scores['Zero Shot'].append(clf_report['micro avg']['f1-score'])"
      ]
    },
    {
      "cell_type": "code",
      "execution_count": null,
      "metadata": {
        "id": "KVx-o1QrFtdO"
      },
      "outputs": [],
      "source": [
        "plot_metrics(micro_scores, macro_scores, train_samples, \"Zero Shot\")"
      ]
    },
    {
      "cell_type": "markdown",
      "metadata": {
        "id": "LyUWxvwhFtdO"
      },
      "source": [
        "## 레이블이 적은 데이터 다루기"
      ]
    },
    {
      "cell_type": "markdown",
      "metadata": {
        "id": "F08yDgxOFtdO"
      },
      "source": [
        "### 데이터 증식"
      ]
    },
    {
      "cell_type": "code",
      "execution_count": null,
      "metadata": {
        "id": "IIKN_zqnFtdO"
      },
      "outputs": [],
      "source": [
        "from transformers import set_seed\n",
        "import nlpaug.augmenter.word as naw\n",
        "import nlpaug.augmenter.char as nac\n",
        "import nlpaug.augmenter.sentence as nas\n",
        "import nlpaug.flow as nafc\n",
        "import nltk\n",
        "nltk.download('averaged_perceptron_tagger')\n",
        "nltk.download('wordnet')\n",
        "nltk.download('omw-1.4')\n",
        "\n",
        "set_seed(3)\n",
        "text = \"Even if you defeat me Megatron, others will rise to defeat your tyranny\"\n",
        "augs = {}\n",
        "augs[\"synonym_replace\"] = naw.SynonymAug(aug_src='wordnet')\n",
        "augs[\"random_insert\"] = naw.ContextualWordEmbsAug(model_path=\"distilbert-base-uncased\", \n",
        "                                device=\"cpu\", action=\"insert\", aug_max=1)\n",
        "augs[\"random_swap\"] = naw.RandomWordAug(action=\"swap\")\n",
        "augs[\"random_delete\"] = naw.RandomWordAug()\n",
        "augs[\"bt_en_de\"] = naw.BackTranslationAug(\n",
        "    from_model_name='facebook/wmt19-en-de', \n",
        "    to_model_name='facebook/wmt19-de-en'\n",
        ")\n",
        "for k,v in augs.items():\n",
        "    print(f\"원본 텍스트: {text}\")\n",
        "    print(f\"{k}: {v.augment(text)}\")\n",
        "    print(\"\")"
      ]
    },
    {
      "cell_type": "code",
      "execution_count": null,
      "metadata": {
        "id": "eADY4oHpFtdO"
      },
      "outputs": [],
      "source": [
        "from transformers import set_seed\n",
        "import nlpaug.augmenter.word as naw\n",
        "\n",
        "set_seed(3)\n",
        "aug = naw.ContextualWordEmbsAug(model_path=\"distilbert-base-uncased\", \n",
        "                                device=\"cpu\", action=\"substitute\")\n",
        "\n",
        "text = \"Transformers are the most popular toys\"\n",
        "print(f\"원본 텍스트: {text}\")\n",
        "print(f\"증식된 텍스트: {aug.augment(text)}\")"
      ]
    },
    {
      "cell_type": "code",
      "execution_count": null,
      "metadata": {
        "id": "dpTzhUAwFtdP"
      },
      "outputs": [],
      "source": [
        "def augment_text(batch, transformations_per_example=1):\n",
        "    text_aug, label_ids = [], []\n",
        "    for text, labels in zip(batch[\"text\"], batch[\"label_ids\"]):\n",
        "        text_aug += [text]\n",
        "        label_ids += [labels]\n",
        "        for _ in range(transformations_per_example):\n",
        "            text_aug += [aug.augment(text)]\n",
        "            label_ids += [labels]\n",
        "    return {\"text\": text_aug, \"label_ids\": label_ids}"
      ]
    },
    {
      "cell_type": "code",
      "execution_count": null,
      "metadata": {
        "id": "Iu0ZuPhzFtdP"
      },
      "outputs": [],
      "source": [
        "for train_slice in train_slices:\n",
        "    # 훈련 슬라이스와 테스트 데이터를 준비합니다\n",
        "    ds_train_sample = ds[\"train\"].select(train_slice)\n",
        "    # 증식 결과를 펼쳐서 레이블에 정렬합니다!\n",
        "    ds_train_aug = (ds_train_sample.map(\n",
        "        augment_text, batched=True, remove_columns=ds_train_sample.column_names)\n",
        "                    .shuffle(seed=42))\n",
        "    y_train = np.array(ds_train_aug[\"label_ids\"])\n",
        "    y_test = np.array(ds[\"test\"][\"label_ids\"])\n",
        "    # 간단한 CountVectorizer를 사용해 텍스트를 토큰 카운트로 인코딩합니다\n",
        "    count_vect = CountVectorizer()\n",
        "    X_train_counts = count_vect.fit_transform(ds_train_aug[\"text\"])\n",
        "    X_test_counts = count_vect.transform(ds[\"test\"][\"text\"])\n",
        "    # 모델을 만들고 훈련합니다!\n",
        "    classifier = BinaryRelevance(classifier=MultinomialNB())\n",
        "    classifier.fit(X_train_counts, y_train)\n",
        "    # 예측을 생성하고 평가합니다\n",
        "    y_pred_test = classifier.predict(X_test_counts)\n",
        "    clf_report = classification_report(\n",
        "        y_test, y_pred_test, target_names=mlb.classes_, zero_division=0,\n",
        "        output_dict=True)\n",
        "    # 평가 결과를 저장합니다\n",
        "    macro_scores[\"Naive Bayes + Aug\"].append(clf_report[\"macro avg\"][\"f1-score\"])\n",
        "    micro_scores[\"Naive Bayes + Aug\"].append(clf_report[\"micro avg\"][\"f1-score\"])"
      ]
    },
    {
      "cell_type": "code",
      "execution_count": null,
      "metadata": {
        "id": "-qMvtjXQFtdP"
      },
      "outputs": [],
      "source": [
        "plot_metrics(micro_scores, macro_scores, train_samples, \"Naive Bayes + Aug\")"
      ]
    },
    {
      "cell_type": "markdown",
      "metadata": {
        "id": "-ZHV4zBUFtdP"
      },
      "source": [
        "### 임베딩을 룩업 테이블로 사용하기"
      ]
    },
    {
      "cell_type": "markdown",
      "metadata": {
        "id": "0ZhhwqG4FtdP"
      },
      "source": [
        "<img alt=\"nearest-neighbours\" caption=\"An illustration of nearest neighbor embedding lookup\" src=\"https://github.com/rickiepark/nlp-with-transformers/blob/main/images/chapter09_nearest-neighbours.png?raw=1\" id=\"nearest-neighbours\"/>"
      ]
    },
    {
      "cell_type": "code",
      "execution_count": null,
      "metadata": {
        "id": "nwUevPxKFtdP"
      },
      "outputs": [],
      "source": [
        "import torch\n",
        "from transformers import AutoTokenizer, AutoModel\n",
        "\n",
        "# 코랩의 경우 메모리 부족을 피하기 위해 gpt2-medium을 사용합니다.\n",
        "model_ckpt = \"miguelvictor/python-gpt2-medium\"\n",
        "# model_ckpt = \"miguelvictor/python-gpt2-large\"\n",
        "tokenizer = AutoTokenizer.from_pretrained(model_ckpt)\n",
        "model = AutoModel.from_pretrained(model_ckpt)\n",
        "\n",
        "def mean_pooling(model_output, attention_mask):\n",
        "    # 토큰 임베딩 추출하기\n",
        "    token_embeddings = model_output[0]\n",
        "    # 어텐션 마스크 계산하기\n",
        "    input_mask_expanded = (attention_mask\n",
        "                           .unsqueeze(-1)\n",
        "                           .expand(token_embeddings.size())\n",
        "                           .float())\n",
        "    # 임베딩을 더하지만 마스킹된 토큰은 무시합니다\n",
        "    sum_embeddings = torch.sum(token_embeddings * input_mask_expanded, 1)\n",
        "    sum_mask = torch.clamp(input_mask_expanded.sum(1), min=1e-9)\n",
        "    # 하나의 벡터로 평균을 반환합니다\n",
        "    return sum_embeddings / sum_mask\n",
        "\n",
        "def embed_text(examples):\n",
        "    inputs = tokenizer(examples[\"text\"], padding=True, truncation=True,\n",
        "                       max_length=128, return_tensors=\"pt\")\n",
        "    with torch.no_grad():\n",
        "        model_output = model(**inputs)\n",
        "    pooled_embeds = mean_pooling(model_output, inputs[\"attention_mask\"])\n",
        "    return {\"embedding\": pooled_embeds.cpu().numpy()}"
      ]
    },
    {
      "cell_type": "code",
      "execution_count": null,
      "metadata": {
        "id": "v6z3LdwvFtdP"
      },
      "outputs": [],
      "source": [
        "tokenizer.pad_token = tokenizer.eos_token\n",
        "embs_train = ds[\"train\"].map(embed_text, batched=True, batch_size=16)\n",
        "embs_valid = ds[\"valid\"].map(embed_text, batched=True, batch_size=16)\n",
        "embs_test = ds[\"test\"].map(embed_text, batched=True, batch_size=16)"
      ]
    },
    {
      "cell_type": "code",
      "source": [
        "# !pip install -q condacolab\n",
        "# import condacolab\n",
        "# condacolab.install()"
      ],
      "metadata": {
        "id": "GLXnO8NbDb7Z"
      },
      "execution_count": null,
      "outputs": []
    },
    {
      "cell_type": "code",
      "source": [
        "!pip install faiss-cpu"
      ],
      "metadata": {
        "id": "f71LaPQgD2ba"
      },
      "execution_count": null,
      "outputs": []
    },
    {
      "cell_type": "code",
      "source": [
        "# url = \"\"\"https://artifacts.elastic.co/downloads/elasticsearch/\\\n",
        "# elasticsearch-7.9.2-linux-x86_64.tar.gz\"\"\"\n",
        "# !wget -nc -q {url}\n",
        "# !tar -xzf elasticsearch-7.9.2-linux-x86_64.tar.gz"
      ],
      "metadata": {
        "id": "ifbGUayiYmpb"
      },
      "execution_count": null,
      "outputs": []
    },
    {
      "cell_type": "code",
      "source": [
        "# import os\n",
        "# from subprocess import Popen, PIPE, STDOUT\n",
        "\n",
        "# # 백그라운드 프로세스로 일래스틱서치를 실행합니다\n",
        "# !chown -R daemon:daemon elasticsearch-7.9.2\n",
        "# es_server = Popen(args=['elasticsearch-7.9.2/bin/elasticsearch'],\n",
        "#                   stdout=PIPE, stderr=STDOUT, preexec_fn=lambda: os.setuid(1))\n",
        "# # 일래스틱서치가 시작할 때까지 기다립니다\n",
        "# !sleep 30"
      ],
      "metadata": {
        "id": "L90_Gg4iYr6t"
      },
      "execution_count": null,
      "outputs": []
    },
    {
      "cell_type": "code",
      "source": [
        "# !pip install elasticsearch"
      ],
      "metadata": {
        "id": "tdWHRKAhaI5W"
      },
      "execution_count": null,
      "outputs": []
    },
    {
      "cell_type": "code",
      "source": [
        "# import elasticsearch\n",
        "\n",
        "# es_client = elasticsearch.Elasticsearch(hosts='http://localhost:9200')"
      ],
      "metadata": {
        "id": "Hj0-3CpkaUgB"
      },
      "execution_count": null,
      "outputs": []
    },
    {
      "cell_type": "code",
      "source": [
        "# !pip install -U transformers"
      ],
      "metadata": {
        "id": "ean_K80DepDg"
      },
      "execution_count": null,
      "outputs": []
    },
    {
      "cell_type": "code",
      "execution_count": null,
      "metadata": {
        "id": "9qw-mIC6FtdP"
      },
      "outputs": [],
      "source": [
        "# 코랩에서는 FAISS 대신 add_elasticsearch_index()를 사용합니다.\n",
        "embs_train.add_faiss_index(\"embedding\")"
      ]
    },
    {
      "cell_type": "code",
      "execution_count": null,
      "metadata": {
        "id": "w9hdWzgMFtdQ"
      },
      "outputs": [],
      "source": [
        "i, k = 0, 3     # 첫 번째 쿼리와 3개의 최근접 이웃을 선택합니다\n",
        "rn, nl = \"\\r\\n\\r\\n\", \"\\n\"   # 간결한 출력을 위해 텍스트에서 줄바꿈 문자를 삭제합니다\n",
        "\n",
        "query =  np.array(embs_valid[i][\"embedding\"], dtype=np.float32)\n",
        "scores, samples = embs_train.get_nearest_examples(\"embedding\", query, k=k)\n",
        "\n",
        "print(f\"쿼리 레이블: {embs_valid[i]['labels']}\")\n",
        "print(f\"쿼리 텍스트:\\n{embs_valid[i]['text'][:200].replace(rn, nl)} [...]\\n\")\n",
        "print(\"=\"*50)\n",
        "print(f\"추출된 문서:\")\n",
        "for score, label, text in zip(scores, samples[\"labels\"], samples[\"text\"]):\n",
        "    print(\"=\"*50)\n",
        "    print(f\"텍스트:\\n{text[:200].replace(rn, nl)} [...]\")\n",
        "    print(f\"점수: {score:.2f}\")\n",
        "    print(f\"레이블: {label}\")"
      ]
    },
    {
      "cell_type": "code",
      "execution_count": null,
      "metadata": {
        "id": "Vz65tDQLFtdQ"
      },
      "outputs": [],
      "source": [
        "def get_sample_preds(sample, m):\n",
        "    return (np.sum(sample[\"label_ids\"], axis=0) >= m).astype(int)\n",
        "\n",
        "def find_best_k_m(ds_train, valid_queries, valid_labels, max_k=17):\n",
        "    max_k = min(len(ds_train), max_k)\n",
        "    perf_micro = np.zeros((max_k, max_k))\n",
        "    perf_macro = np.zeros((max_k, max_k))\n",
        "    for k in range(1, max_k):\n",
        "        for m in range(1, k + 1):\n",
        "            _, samples = ds_train.get_nearest_examples_batch(\"embedding\",\n",
        "                                                             valid_queries, k=k)\n",
        "            y_pred = np.array([get_sample_preds(s, m) for s in samples])\n",
        "            clf_report = classification_report(valid_labels, y_pred,\n",
        "                target_names=mlb.classes_, zero_division=0, output_dict=True)\n",
        "            perf_micro[k, m] = clf_report[\"micro avg\"][\"f1-score\"]\n",
        "            perf_macro[k, m] = clf_report[\"macro avg\"][\"f1-score\"]\n",
        "    return perf_micro, perf_macro"
      ]
    },
    {
      "cell_type": "code",
      "execution_count": null,
      "metadata": {
        "id": "t_nocZQAFtdQ"
      },
      "outputs": [],
      "source": [
        "valid_labels = np.array(embs_valid[\"label_ids\"])\n",
        "valid_queries = np.array(embs_valid[\"embedding\"], dtype=np.float32)\n",
        "perf_micro, perf_macro = find_best_k_m(embs_train, valid_queries, valid_labels)"
      ]
    },
    {
      "cell_type": "code",
      "execution_count": null,
      "metadata": {
        "id": "mlsCsAvqFtdQ"
      },
      "outputs": [],
      "source": [
        "fig, (ax0, ax1) = plt.subplots(1, 2, figsize=(10, 3.5), sharey=True)\n",
        "ax0.imshow(perf_micro)\n",
        "ax1.imshow(perf_macro)\n",
        "\n",
        "ax0.set_title(\"micro scores\")\n",
        "ax0.set_ylabel(\"k\")\n",
        "ax1.set_title(\"macro scores\")\n",
        "for ax in [ax0, ax1]:\n",
        "    ax.set_xlim([0.5, 17 - 0.5])\n",
        "    ax.set_ylim([17 - 0.5, 0.5])\n",
        "    ax.set_xlabel(\"m\")\n",
        "plt.show()"
      ]
    },
    {
      "cell_type": "code",
      "execution_count": null,
      "metadata": {
        "id": "Q0xX4XGHFtdQ"
      },
      "outputs": [],
      "source": [
        "k, m = np.unravel_index(perf_micro.argmax(), perf_micro.shape)\n",
        "print(f\"최상의 k: {k}, 최상의 m: {m}\")"
      ]
    },
    {
      "cell_type": "code",
      "execution_count": null,
      "metadata": {
        "id": "uSsPjsn6FtdQ"
      },
      "outputs": [],
      "source": [
        "embs_train.drop_index(\"embedding\")\n",
        "test_labels = np.array(embs_test[\"label_ids\"])\n",
        "test_queries = np.array(embs_test[\"embedding\"], dtype=np.float32)\n",
        "\n",
        "for train_slice in train_slices:\n",
        "    # 코랩에서는 FAISS 대신 add_elasticsearch_index()를 사용합니다.\n",
        "    embs_train_tmp = embs_train.select(train_slice)\n",
        "    embs_train_tmp.add_faiss_index(\"embedding\")\n",
        "    # 검증 세트로 최상의 k, m 값을 구합니다\n",
        "    perf_micro, _ = find_best_k_m(embs_train_tmp, valid_queries, valid_labels)\n",
        "    k, m = np.unravel_index(perf_micro.argmax(), perf_micro.shape)\n",
        "    # 테스트 세트에서 예측을 만듭니다\n",
        "    _, samples = embs_train_tmp.get_nearest_examples_batch(\"embedding\",\n",
        "                                                           test_queries,\n",
        "                                                           k=int(k))\n",
        "    y_pred = np.array([get_sample_preds(s, m) for s in samples])\n",
        "    # 예측을 평가합니다\n",
        "    clf_report = classification_report(test_labels, y_pred,\n",
        "        target_names=mlb.classes_, zero_division=0, output_dict=True,)\n",
        "    macro_scores[\"Embedding\"].append(clf_report[\"macro avg\"][\"f1-score\"])\n",
        "    micro_scores[\"Embedding\"].append(clf_report[\"micro avg\"][\"f1-score\"])"
      ]
    },
    {
      "cell_type": "code",
      "execution_count": null,
      "metadata": {
        "id": "w_21w4rWFtdQ"
      },
      "outputs": [],
      "source": [
        "plot_metrics(micro_scores, macro_scores, train_samples, \"Embedding\")"
      ]
    },
    {
      "cell_type": "markdown",
      "metadata": {
        "id": "cdbluOTpFtdR"
      },
      "source": [
        "### 사이드바: FAISS를 사용한 효율적인 유사도 검색"
      ]
    },
    {
      "cell_type": "markdown",
      "metadata": {
        "id": "y66EFKCYFtdR"
      },
      "source": [
        "<img alt=\"faiss-index\" caption=\"The structure of a FAISS index: the gray points represent data points added to the index, the bold black points are the cluster centers found via k-means clustering, and the colored areas represent the regions belonging to a cluster center\" src=\"https://github.com/rickiepark/nlp-with-transformers/blob/main/images/chapter09_faiss-index.png?raw=1\" id=\"faiss-index\"/>"
      ]
    },
    {
      "cell_type": "markdown",
      "metadata": {
        "id": "80Q6VlqYFtdR"
      },
      "source": [
        "### 사이드바 끝"
      ]
    },
    {
      "cell_type": "markdown",
      "metadata": {
        "id": "R6XOEkoDFtdR"
      },
      "source": [
        "### 기본 트랜스포머 미세 튜닝하기"
      ]
    },
    {
      "cell_type": "code",
      "execution_count": null,
      "metadata": {
        "id": "RskjMoo0FtdR"
      },
      "outputs": [],
      "source": [
        "import torch\n",
        "from transformers import (AutoTokenizer, AutoConfig,\n",
        "                          AutoModelForSequenceClassification)\n",
        "                          \n",
        "model_ckpt = \"bert-base-uncased\"\n",
        "tokenizer = AutoTokenizer.from_pretrained(model_ckpt)\n",
        "\n",
        "def tokenize(batch):\n",
        "    return tokenizer(batch[\"text\"], truncation=True, max_length=128)\n",
        "ds_enc = ds.map(tokenize, batched=True)\n",
        "ds_enc = ds_enc.remove_columns(['labels', 'text'])"
      ]
    },
    {
      "cell_type": "code",
      "execution_count": null,
      "metadata": {
        "id": "OXYwPvgLFtdR"
      },
      "outputs": [],
      "source": [
        "ds_enc.set_format(\"torch\")\n",
        "ds_enc = ds_enc.map(lambda x: {\"label_ids_f\": x[\"label_ids\"].to(torch.float)},\n",
        "                    remove_columns=[\"label_ids\"])\n",
        "ds_enc = ds_enc.rename_column(\"label_ids_f\", \"label_ids\")"
      ]
    },
    {
      "cell_type": "code",
      "execution_count": null,
      "metadata": {
        "id": "CRQ0TKvfFtdR"
      },
      "outputs": [],
      "source": [
        "from transformers import Trainer, TrainingArguments\n",
        "\n",
        "training_args_fine_tune = TrainingArguments(\n",
        "    output_dir=\"./results\", num_train_epochs=20, learning_rate=3e-5,\n",
        "    lr_scheduler_type='constant', per_device_train_batch_size=4,\n",
        "    per_device_eval_batch_size=32, weight_decay=0.0, \n",
        "    evaluation_strategy=\"epoch\", save_strategy=\"epoch\",logging_strategy=\"epoch\",\n",
        "    load_best_model_at_end=True, metric_for_best_model='micro f1',\n",
        "    save_total_limit=1, log_level='error')"
      ]
    },
    {
      "cell_type": "code",
      "execution_count": null,
      "metadata": {
        "id": "a6eYjeogFtdR"
      },
      "outputs": [],
      "source": [
        "from scipy.special import expit as sigmoid\n",
        "\n",
        "def compute_metrics(pred):\n",
        "    y_true = pred.label_ids\n",
        "    y_pred = sigmoid(pred.predictions)\n",
        "    y_pred = (y_pred>0.5).astype(float)\n",
        "    \n",
        "    clf_dict = classification_report(y_true, y_pred, target_names=all_labels,\n",
        "                                     zero_division=0, output_dict=True)\n",
        "    return {\"micro f1\": clf_dict[\"micro avg\"][\"f1-score\"],\n",
        "            \"macro f1\": clf_dict[\"macro avg\"][\"f1-score\"]}"
      ]
    },
    {
      "cell_type": "code",
      "execution_count": null,
      "metadata": {
        "id": "7WTyMIZXFtdR"
      },
      "outputs": [],
      "source": [
        "config = AutoConfig.from_pretrained(model_ckpt)\n",
        "config.num_labels = len(all_labels)\n",
        "config.problem_type = \"multi_label_classification\""
      ]
    },
    {
      "cell_type": "code",
      "execution_count": null,
      "metadata": {
        "id": "XxlVqmeIFtdR"
      },
      "outputs": [],
      "source": [
        "for train_slice in train_slices:\n",
        "    model = AutoModelForSequenceClassification.from_pretrained(model_ckpt,\n",
        "                                                               config=config)\n",
        "    trainer = Trainer(\n",
        "        model=model, tokenizer=tokenizer,\n",
        "        args=training_args_fine_tune,\n",
        "        compute_metrics=compute_metrics,\n",
        "        train_dataset=ds_enc[\"train\"].select(train_slice),\n",
        "        eval_dataset=ds_enc[\"valid\"],)\n",
        "\n",
        "    trainer.train()\n",
        "    pred = trainer.predict(ds_enc[\"test\"])\n",
        "    metrics = compute_metrics(pred)\n",
        "    macro_scores[\"Fine-tune (vanilla)\"].append(metrics[\"macro f1\"])\n",
        "    micro_scores[\"Fine-tune (vanilla)\"].append(metrics[\"micro f1\"])"
      ]
    },
    {
      "cell_type": "code",
      "execution_count": null,
      "metadata": {
        "id": "aRNh871gFtdS"
      },
      "outputs": [],
      "source": [
        "plot_metrics(micro_scores, macro_scores, train_samples, \"Fine-tune (vanilla)\")"
      ]
    },
    {
      "cell_type": "markdown",
      "metadata": {
        "id": "e7QoFPhvFtdS"
      },
      "source": [
        "### 프롬프트를 사용한 인-컨텍스트 학습과 퓨-샷 학습"
      ]
    },
    {
      "cell_type": "code",
      "execution_count": null,
      "metadata": {
        "id": "RTJ8t2ldFtdS"
      },
      "outputs": [],
      "source": [
        "prompt = \"\"\"\\\n",
        "Translate English to French:\n",
        "thanks =>\n",
        "\"\"\""
      ]
    },
    {
      "cell_type": "markdown",
      "metadata": {
        "id": "8EUkRlA-FtdS"
      },
      "source": [
        "## 레이블링되지 않은 데이터 활용하기"
      ]
    },
    {
      "cell_type": "markdown",
      "metadata": {
        "id": "8BdJomZ1FtdS"
      },
      "source": [
        "### 언어 모델 미세 튜닝하기"
      ]
    },
    {
      "cell_type": "code",
      "execution_count": null,
      "metadata": {
        "id": "H0E1pSyTFtdS"
      },
      "outputs": [],
      "source": [
        "def tokenize(batch):\n",
        "    return tokenizer(batch[\"text\"], truncation=True,\n",
        "                     max_length=128, return_special_tokens_mask=True)\n",
        "\n",
        "ds_mlm = ds.map(tokenize, batched=True)\n",
        "ds_mlm = ds_mlm.remove_columns([\"labels\", \"text\", \"label_ids\"])"
      ]
    },
    {
      "cell_type": "code",
      "execution_count": null,
      "metadata": {
        "id": "5f2f219qFtdS"
      },
      "outputs": [],
      "source": [
        "from transformers import DataCollatorForLanguageModeling, set_seed\n",
        "\n",
        "data_collator = DataCollatorForLanguageModeling(tokenizer=tokenizer,\n",
        "                                                mlm_probability=0.15)"
      ]
    },
    {
      "cell_type": "code",
      "source": [
        "inputs[\"input_ids\"]"
      ],
      "metadata": {
        "id": "qKbsGHudZ7Sz"
      },
      "execution_count": null,
      "outputs": []
    },
    {
      "cell_type": "code",
      "execution_count": null,
      "metadata": {
        "id": "t2DSsDc0FtdS"
      },
      "outputs": [],
      "source": [
        "set_seed(3)\n",
        "data_collator.return_tensors = \"np\"\n",
        "inputs = tokenizer(\"Transformers are awesome!\", return_tensors=\"np\")\n",
        "original_input_ids = inputs[\"input_ids\"][0]\n",
        "outputs = data_collator([{\"input_ids\": inputs[\"input_ids\"][0]}])\n",
        "masked_input_ids = outputs[\"input_ids\"][0]\n",
        "\n",
        "pd.DataFrame({\n",
        "    \"Original tokens\": tokenizer.convert_ids_to_tokens(inputs[\"input_ids\"][0]),\n",
        "    \"Masked tokens\": tokenizer.convert_ids_to_tokens(outputs[\"input_ids\"][0]),\n",
        "    \"Original input_ids\": original_input_ids,\n",
        "    \"Masked input_ids\": masked_input_ids,\n",
        "    \"Labels\": outputs[\"labels\"][0]}).T"
      ]
    },
    {
      "cell_type": "code",
      "execution_count": null,
      "metadata": {
        "id": "hS9J37yqFtdS"
      },
      "outputs": [],
      "source": [
        "data_collator.return_tensors = \"pt\""
      ]
    },
    {
      "cell_type": "code",
      "execution_count": null,
      "metadata": {
        "id": "Mt18CU3iFtdS"
      },
      "outputs": [],
      "source": [
        "from transformers import AutoModelForMaskedLM\n",
        "\n",
        "training_args = TrainingArguments(\n",
        "    output_dir = f\"{model_ckpt}-issues-128\", per_device_train_batch_size=32,\n",
        "    logging_strategy=\"epoch\", evaluation_strategy=\"epoch\", save_strategy=\"no\",\n",
        "    num_train_epochs=16, push_to_hub=True, log_level=\"error\", report_to=\"none\")\n",
        "\n",
        "trainer = Trainer(\n",
        "        model=AutoModelForMaskedLM.from_pretrained(\"bert-base-uncased\"),\n",
        "        tokenizer=tokenizer, args=training_args, data_collator=data_collator,\n",
        "        train_dataset=ds_mlm[\"unsup\"], eval_dataset=ds_mlm[\"train\"])\n",
        "\n",
        "trainer.train()"
      ]
    },
    {
      "cell_type": "code",
      "execution_count": null,
      "metadata": {
        "id": "dP1G3-DBFtdT"
      },
      "outputs": [],
      "source": [
        "trainer.push_to_hub(\"Training complete!\")"
      ]
    },
    {
      "cell_type": "code",
      "execution_count": null,
      "metadata": {
        "id": "Wkz51pPEFtdT"
      },
      "outputs": [],
      "source": [
        "df_log = pd.DataFrame(trainer.state.log_history)\n",
        "\n",
        "(df_log.dropna(subset=[\"eval_loss\"]).reset_index()[\"eval_loss\"]\n",
        " .plot(label=\"Validation\"))\n",
        "df_log.dropna(subset=[\"loss\"]).reset_index()[\"loss\"].plot(label=\"Train\")\n",
        " \n",
        "plt.xlabel(\"Epochs\")\n",
        "plt.ylabel(\"Loss\")\n",
        "plt.legend(loc=\"upper right\")\n",
        "plt.show()"
      ]
    },
    {
      "cell_type": "markdown",
      "metadata": {
        "id": "TOYZEGWGFtdT"
      },
      "source": [
        "### 분류기 미세 튜닝하기"
      ]
    },
    {
      "cell_type": "code",
      "execution_count": null,
      "metadata": {
        "id": "UNUREH_GFtdT"
      },
      "outputs": [],
      "source": [
        "model_ckpt = f'{model_ckpt}-issues-128'\n",
        "config = AutoConfig.from_pretrained(model_ckpt)\n",
        "config.num_labels = len(all_labels)\n",
        "config.problem_type = \"multi_label_classification\"\n",
        "\n",
        "for train_slice in train_slices:\n",
        "    model = AutoModelForSequenceClassification.from_pretrained(model_ckpt,\n",
        "                                                               config=config)\n",
        "    trainer = Trainer(\n",
        "        model=model,\n",
        "        tokenizer=tokenizer,\n",
        "        args=training_args_fine_tune,\n",
        "        compute_metrics=compute_metrics,\n",
        "        train_dataset=ds_enc[\"train\"].select(train_slice),\n",
        "        eval_dataset=ds_enc[\"valid\"],\n",
        "    )\n",
        "\n",
        "    trainer.train()\n",
        "    pred = trainer.predict(ds_enc['test'])\n",
        "    metrics = compute_metrics(pred)\n",
        "    # DA는 도메인 적응을 의미합니다\n",
        "    macro_scores['Fine-tune (DA)'].append(metrics['macro f1'])\n",
        "    micro_scores['Fine-tune (DA)'].append(metrics['micro f1'])"
      ]
    },
    {
      "cell_type": "code",
      "execution_count": null,
      "metadata": {
        "id": "Xdf5sZUBFtdT"
      },
      "outputs": [],
      "source": [
        "plot_metrics(micro_scores, macro_scores, train_samples, \"Fine-tune (DA)\")"
      ]
    },
    {
      "cell_type": "markdown",
      "metadata": {
        "id": "C5hwHUGcFtdT"
      },
      "source": [
        "### 고급 방법"
      ]
    },
    {
      "cell_type": "markdown",
      "metadata": {
        "id": "z3q_6llBFtdT"
      },
      "source": [
        "#### 비지도 데이터 증식"
      ]
    },
    {
      "cell_type": "markdown",
      "metadata": {
        "id": "46Bx3nltFtdT"
      },
      "source": [
        "<img alt=\"uda\" width=\"600\" caption=\"Training a model M with UDA (courtesy of Qizhe Xie)\" src=\"https://github.com/rickiepark/nlp-with-transformers/blob/main/images/chapter09_uda.png?raw=1\" id=\"uda\"/>    "
      ]
    },
    {
      "cell_type": "markdown",
      "metadata": {
        "id": "0dT8jemwFtdT"
      },
      "source": [
        "#### 불확실성 인지 자기 훈련"
      ]
    },
    {
      "cell_type": "markdown",
      "metadata": {
        "id": "pkWLB_2dFtdT"
      },
      "source": [
        "<img alt=\"ust\" width=\"600\" caption=\"The UST method consists of a teacher that generates pseudo-labels and a student that is subsequently trained on those labels; after the student is trained it becomes the teacher and the step is repeated (courtesy of Subhabrata Mukherjee)\" src=\"https://github.com/rickiepark/nlp-with-transformers/blob/main/images/chapter09_ust.png?raw=1\" id=\"ust\"/>"
      ]
    },
    {
      "cell_type": "markdown",
      "metadata": {
        "id": "wY1H0vjHFtdU"
      },
      "source": [
        "## 결론"
      ]
    }
  ],
  "metadata": {
    "kernelspec": {
      "display_name": "default:Python",
      "language": "python",
      "name": "conda-env-default-py"
    },
    "language_info": {
      "codemirror_mode": {
        "name": "ipython",
        "version": 3
      },
      "file_extension": ".py",
      "mimetype": "text/x-python",
      "name": "python",
      "nbconvert_exporter": "python",
      "pygments_lexer": "ipython3",
      "version": "3.9.10"
    },
    "colab": {
      "provenance": []
    },
    "accelerator": "GPU",
    "gpuClass": "standard"
  },
  "nbformat": 4,
  "nbformat_minor": 0
}